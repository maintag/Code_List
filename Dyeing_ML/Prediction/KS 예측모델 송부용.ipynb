{
 "cells": [
  {
   "cell_type": "markdown",
   "id": "9423ee4c",
   "metadata": {},
   "source": [
    "# 모델 라이브러리"
   ]
  },
  {
   "cell_type": "code",
   "execution_count": 1,
   "id": "f1071257",
   "metadata": {},
   "outputs": [],
   "source": [
    "import scipy.stats as stats\n",
    "import pandas as pd\n",
    "import urllib\n",
    "import matplotlib.pyplot as plt\n",
    "import numpy as np\n",
    "import seaborn as sns\n",
    "import statsmodels.formula.api as sm\n",
    "#import smogn #회귀 문제를 위한 SMOTE 오버 샘플링 기법\n",
    "from statsmodels.formula.api import ols\n",
    "from statsmodels.stats.anova import anova_lm\n",
    "from sklearn.model_selection import train_test_split\n",
    "from sklearn.linear_model import SGDRegressor\n",
    "from sklearn.tree import DecisionTreeRegressor\n",
    "from sklearn.ensemble import RandomForestRegressor\n",
    "from sklearn.ensemble import GradientBoostingRegressor \n",
    "from sklearn.metrics import r2_score, mean_absolute_error, mean_squared_error\n",
    "from sklearn.model_selection import GridSearchCV\n",
    "from sklearn.tree import plot_tree\n",
    "from sklearn.metrics import r2_score\n",
    "from sklearn.metrics import mean_absolute_error\n",
    "from sklearn.metrics import mean_squared_error\n",
    "import xgboost as xgb\n",
    "from sklearn.model_selection import cross_val_score, KFold\n",
    "import pickle"
   ]
  },
  {
   "cell_type": "markdown",
   "id": "5cdb54cb",
   "metadata": {},
   "source": [
    "# 학습 및 테스트 데이터"
   ]
  },
  {
   "cell_type": "code",
   "execution_count": 2,
   "id": "b591915b",
   "metadata": {},
   "outputs": [],
   "source": [
    "data = pd.read_csv('C:/Users/leewa/Desktop/공정변수.csv',encoding='euc-kr')\n",
    "x = data[['Dorosperse Red KKL', 'Dorosperse Blue KKL', 'Dorosperse B/K KKL',\n",
    "       'Dorosperse Dark Grey KKL', 'Dorosperse Brown K-3LR',\n",
    "       'Dianix Yellow AM-2R', 'Dianix Red AM-SLR', 'Dianix Blue AM-2G',\n",
    "       'Dianix Black AM-SLR', 'Dianix Grey AM-SLR', 'Dianix Yellow Brown AM-R',\n",
    "       'Dorosperse Yellow KKL', 'Dorosperse Black KKL','Dorosperse Red KKL_prop', 'Dorosperse Blue KKL_prop', 'Dorosperse B/K KKL_prop',\n",
    "       'Dorosperse Dark Grey KKL_prop', 'Dorosperse Brown K-3LR_prop',\n",
    "       'Dianix Yellow AM-2R_prop', 'Dianix Red AM-SLR_prop', 'Dianix Blue AM-2G_prop',\n",
    "       'Dianix Black AM-SLR_prop', 'Dianix Grey AM-SLR_prop', 'Dianix Yellow Brown AM-R_prop',\n",
    "       'Dorosperse Yellow KKL_prop', 'Dorosperse Black KKL_prop','배합_Sunsolt RM-340S', '배합_빙초산', 'Lab 염색 시작온도', 'Lab 염색 상승속도 #1',\n",
    "       'Lab 염색 상승온도 #1', 'Lab 염색 상승온도 #1 유지시간', 'Lab 염색 상승속도 #2',\n",
    "       'Lab 염색 상승온도 #2', 'Lab 염색 상승온도 #2 유지시간', 'Lab 염색 상승속도 #3',\n",
    "       'Lab 염색 상승온도 #3', 'Lab 염색 상승온도 #3 유지시간', 'Lab 염색 하강속도 #1',\n",
    "       'Lab 염색 하강온도 #1', 'Lab 염색 하강온도 #1 유지시간', 'Lab 염색 하강속도 #2',\n",
    "       'Lab 염색 하강온도 #2', 'Lab 염색 하강온도 #2 유지시간', 'Lab 염색 하강속도 #3',\n",
    "       'Lab 염색 하강온도 #3', 'Lab 염색 하강온도 #3 유지시간', 'Lab 염색 종료속도', 'Lab 염색 종료온도',\n",
    "       'Lab 염색 종료온도 유지시간']]\n",
    "y = data[['잔욕염색 검사_K/S']]\n",
    "x_train, x_test, y_train, y_test = train_test_split(x,y, train_size=0.8, test_size=0.2, random_state=42)"
   ]
  },
  {
   "cell_type": "markdown",
   "id": "271b33fd",
   "metadata": {},
   "source": [
    "# 모델 구축 및 학습"
   ]
  },
  {
   "cell_type": "code",
   "execution_count": 3,
   "id": "b42c91d0",
   "metadata": {},
   "outputs": [
    {
     "name": "stderr",
     "output_type": "stream",
     "text": [
      "C:\\Users\\leewa\\Anaconda3\\lib\\site-packages\\sklearn\\ensemble\\_gb.py:494: DataConversionWarning: A column-vector y was passed when a 1d array was expected. Please change the shape of y to (n_samples, ), for example using ravel().\n",
      "  y = column_or_1d(y, warn=True)\n"
     ]
    },
    {
     "name": "stdout",
     "output_type": "stream",
     "text": [
      "training set score: 1.00\n",
      "test set score: 0.81\n",
      "r^2 score: 0.9578\n",
      "MAE score: 0.0072\n",
      "MSE score: 0.0012\n"
     ]
    },
    {
     "data": {
      "text/plain": [
       "0.8084582188297551"
      ]
     },
     "execution_count": 3,
     "metadata": {},
     "output_type": "execute_result"
    }
   ],
   "source": [
    "GB = GradientBoostingRegressor(n_estimators = 500,max_depth=8, min_samples_split=7,random_state=0)\n",
    "GB.fit(x_train,y_train)\n",
    "y_pred = GB.predict(x)    \n",
    "print(\"training set score: {:.2f}\".format(GB.score(x_train, y_train))) # 훈련셋 결정계수\n",
    "print(\"test set score: {:.2f}\".format(GB.score(x_test, y_test))) # 테스트셋 결정계수\n",
    "print(\"r^2 score: {:.4f}\".format(r2_score(y, y_pred))) # r2스코어\n",
    "print(\"MAE score: {:.4f}\".format(mean_absolute_error(y,y_pred))) # MAE스코어\n",
    "print(\"MSE score: {:.4f}\".format(mean_squared_error(y,y_pred))) # MSE스코어\n",
    "GB.score(x_test,y_test) # 얘는 보지 마세용"
   ]
  },
  {
   "cell_type": "markdown",
   "id": "c3bff980",
   "metadata": {},
   "source": [
    "# 예측 모델 입력 데이터 생성"
   ]
  },
  {
   "cell_type": "code",
   "execution_count": 8,
   "id": "a8d038d0",
   "metadata": {},
   "outputs": [
    {
     "name": "stdout",
     "output_type": "stream",
     "text": [
      "GB K/S :  [0.11459]\n"
     ]
    }
   ],
   "source": [
    " x_predict = {\n",
    "'Dorosperse Red KKL': [1], \n",
    "'Dorosperse Blue KKL': [0],\n",
    "'Dorosperse B/K KKL': [0], \n",
    "'Dorosperse Dark Grey KKL': [0],\n",
    "'Dorosperse Brown K-3LR': [0], \n",
    "'Dianix Yellow AM-2R': [0],\n",
    "'Dianix Red AM-SLR': [0], \n",
    "'Dianix Blue AM-2G': [0],\n",
    "'Dianix Black AM-SLR': [0],\n",
    "'Dianix Grey AM-SLR': [0], \n",
    "'Dianix Yellow Brown AM-R': [0],\n",
    "'Dorosperse Yellow KKL': [0], \n",
    "'Dorosperse Black KKL': [0],\n",
    "'Dorosperse Red KKL_prop': [1], \n",
    "'Dorosperse Blue KKL_prop': [0],\n",
    "'Dorosperse B/K KKL_prop': [0], \n",
    "'Dorosperse Dark Grey KKL_prop': [0],\n",
    "'Dorosperse Brown K-3LR_prop': [0], \n",
    "'Dianix Yellow AM-2R_prop': [0],\n",
    "'Dianix Red AM-SLR_prop': [0], \n",
    "'Dianix Blue AM-2G_prop': [0],\n",
    "'Dianix Black AM-SLR_prop': [0],\n",
    "'Dianix Grey AM-SLR_prop': [0],\n",
    "'Dianix Yellow Brown AM-R_prop': [0], \n",
    "'Dorosperse Yellow KKL_prop': [0],\n",
    "'Dorosperse Black KKL_prop': [0],\n",
    "'배합_Sunsolt RM-340S': [0.3],\n",
    "'배합_빙초산': [0.2], \n",
    "'Lab 염색 시작온도': [40], \n",
    "'Lab 염색 상승속도 #1': [0.8],\n",
    "'Lab 염색 상승온도 #1': [64],\n",
    "'Lab 염색 상승온도 #1 유지시간': [0], \n",
    "'Lab 염색 상승속도 #2': [0.5],\n",
    "'Lab 염색 상승온도 #2': [100],\n",
    "'Lab 염색 상승온도 #2 유지시간': [0],\n",
    "'Lab 염색 상승속도 #3': [1.112],\n",
    "'Lab 염색 상승온도 #3': [133],\n",
    "'Lab 염색 상승온도 #3 유지시간': [60],\n",
    "'Lab 염색 하강속도 #1': [1.9722],\n",
    "'Lab 염색 하강온도 #1': [64],\n",
    "'Lab 염색 하강온도 #1 유지시간': [0],\n",
    "'Lab 염색 하강속도 #2': [0],\n",
    "'Lab 염색 하강온도 #2': [64],\n",
    "'Lab 염색 하강온도 #2 유지시간': [0],\n",
    "'Lab 염색 하강속도 #3': [0],\n",
    "'Lab 염색 하강온도 #3': [64],\n",
    "'Lab 염색 하강온도 #3 유지시간': [0],\n",
    "'Lab 염색 종료속도': [0],\n",
    "'Lab 염색 종료온도': [64],\n",
    "       'Lab 염색 종료온도 유지시간': [0]\n",
    "}\n",
    "x_predict = pd.DataFrame(x_predict)\n",
    "\n",
    "pred_tree = GB.predict(x_predict)\n",
    "\n",
    "print(\"GB K/S : \", np.round(pred_tree, 5))"
   ]
  },
  {
   "cell_type": "code",
   "execution_count": 5,
   "id": "42e4b853",
   "metadata": {},
   "outputs": [],
   "source": [
    "path = 'C:/Users/leewa/Desktop/'\n",
    "\n",
    "#사용모델 저장\n",
    "with open(path+\"KS예측모델.pkl\",\"wb\") as f:\n",
    "    pickle.dump(GB,f)"
   ]
  },
  {
   "cell_type": "code",
   "execution_count": null,
   "id": "b3a9edb3",
   "metadata": {},
   "outputs": [],
   "source": []
  }
 ],
 "metadata": {
  "kernelspec": {
   "display_name": "Python 3 (ipykernel)",
   "language": "python",
   "name": "python3"
  },
  "language_info": {
   "codemirror_mode": {
    "name": "ipython",
    "version": 3
   },
   "file_extension": ".py",
   "mimetype": "text/x-python",
   "name": "python",
   "nbconvert_exporter": "python",
   "pygments_lexer": "ipython3",
   "version": "3.11.3"
  }
 },
 "nbformat": 4,
 "nbformat_minor": 5
}
