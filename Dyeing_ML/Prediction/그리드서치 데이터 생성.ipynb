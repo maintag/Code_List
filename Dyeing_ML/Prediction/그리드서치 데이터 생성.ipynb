{
 "cells": [
  {
   "cell_type": "code",
   "execution_count": 8,
   "id": "1c75f822",
   "metadata": {},
   "outputs": [],
   "source": [
    "import random\n",
    "import numpy as np\n",
    "import random\n",
    "import scipy.stats as stats\n",
    "import pandas as pd\n",
    "from sklearn.model_selection import train_test_split\n",
    "from sklearn.ensemble import GradientBoostingRegressor \n",
    "from sklearn.model_selection import GridSearchCV\n",
    "from sklearn.tree import plot_tree\n",
    "from sklearn.metrics import r2_score\n",
    "from sklearn.metrics import mean_absolute_error\n",
    "from sklearn.metrics import mean_squared_error\n",
    "#from imblearn.over_sampling import SMOTENC\n",
    "import xlsxwriter\n",
    "import openpyxl\n",
    "from openpyxl import load_workbook\n",
    "import itertools"
   ]
  },
  {
   "cell_type": "code",
   "execution_count": 9,
   "id": "719c84c9",
   "metadata": {},
   "outputs": [
    {
     "name": "stderr",
     "output_type": "stream",
     "text": [
      "C:\\Users\\leewa\\anaconda3\\Lib\\site-packages\\sklearn\\ensemble\\_gb.py:437: DataConversionWarning: A column-vector y was passed when a 1d array was expected. Please change the shape of y to (n_samples, ), for example using ravel().\n",
      "  y = column_or_1d(y, warn=True)\n"
     ]
    },
    {
     "data": {
      "text/html": [
       "<div>\n",
       "<style scoped>\n",
       "    .dataframe tbody tr th:only-of-type {\n",
       "        vertical-align: middle;\n",
       "    }\n",
       "\n",
       "    .dataframe tbody tr th {\n",
       "        vertical-align: top;\n",
       "    }\n",
       "\n",
       "    .dataframe thead th {\n",
       "        text-align: right;\n",
       "    }\n",
       "</style>\n",
       "<table border=\"1\" class=\"dataframe\">\n",
       "  <thead>\n",
       "    <tr style=\"text-align: right;\">\n",
       "      <th></th>\n",
       "      <th>Dorosperse Red KKL</th>\n",
       "      <th>Dorosperse Blue KKL</th>\n",
       "      <th>Dorosperse B/K KKL</th>\n",
       "      <th>Dorosperse Dark Grey KKL</th>\n",
       "      <th>Dorosperse Brown K-3LR</th>\n",
       "      <th>Dianix Yellow AM-2R</th>\n",
       "      <th>Dianix Red AM-SLR</th>\n",
       "      <th>Dianix Blue AM-2G</th>\n",
       "      <th>Dianix Black AM-SLR</th>\n",
       "      <th>Dianix Grey AM-SLR</th>\n",
       "      <th>...</th>\n",
       "      <th>Lab 염색 하강속도 #2</th>\n",
       "      <th>Lab 염색 하강온도 #2</th>\n",
       "      <th>Lab 염색 하강온도 #2 유지시간</th>\n",
       "      <th>Lab 염색 하강속도 #3</th>\n",
       "      <th>Lab 염색 하강온도 #3</th>\n",
       "      <th>Lab 염색 하강온도 #3 유지시간</th>\n",
       "      <th>Lab 염색 종료속도</th>\n",
       "      <th>Lab 염색 종료온도</th>\n",
       "      <th>Lab 염색 종료온도 유지시간</th>\n",
       "      <th>잔욕염색 검사_K/S</th>\n",
       "    </tr>\n",
       "  </thead>\n",
       "  <tbody>\n",
       "    <tr>\n",
       "      <th>0</th>\n",
       "      <td>0.0</td>\n",
       "      <td>0.033</td>\n",
       "      <td>0.0</td>\n",
       "      <td>0.0</td>\n",
       "      <td>0.0</td>\n",
       "      <td>0.0</td>\n",
       "      <td>0.0</td>\n",
       "      <td>0.0</td>\n",
       "      <td>0.0</td>\n",
       "      <td>0.0</td>\n",
       "      <td>...</td>\n",
       "      <td>0</td>\n",
       "      <td>64</td>\n",
       "      <td>0</td>\n",
       "      <td>0</td>\n",
       "      <td>64</td>\n",
       "      <td>0</td>\n",
       "      <td>0</td>\n",
       "      <td>64</td>\n",
       "      <td>0</td>\n",
       "      <td>0.058625</td>\n",
       "    </tr>\n",
       "    <tr>\n",
       "      <th>1</th>\n",
       "      <td>0.0</td>\n",
       "      <td>0.033</td>\n",
       "      <td>0.0</td>\n",
       "      <td>0.0</td>\n",
       "      <td>0.0</td>\n",
       "      <td>0.0</td>\n",
       "      <td>0.0</td>\n",
       "      <td>0.0</td>\n",
       "      <td>0.0</td>\n",
       "      <td>0.0</td>\n",
       "      <td>...</td>\n",
       "      <td>0</td>\n",
       "      <td>64</td>\n",
       "      <td>0</td>\n",
       "      <td>0</td>\n",
       "      <td>64</td>\n",
       "      <td>0</td>\n",
       "      <td>0</td>\n",
       "      <td>64</td>\n",
       "      <td>0</td>\n",
       "      <td>0.062750</td>\n",
       "    </tr>\n",
       "    <tr>\n",
       "      <th>2</th>\n",
       "      <td>0.0</td>\n",
       "      <td>0.033</td>\n",
       "      <td>0.0</td>\n",
       "      <td>0.0</td>\n",
       "      <td>0.0</td>\n",
       "      <td>0.0</td>\n",
       "      <td>0.0</td>\n",
       "      <td>0.0</td>\n",
       "      <td>0.0</td>\n",
       "      <td>0.0</td>\n",
       "      <td>...</td>\n",
       "      <td>0</td>\n",
       "      <td>64</td>\n",
       "      <td>0</td>\n",
       "      <td>0</td>\n",
       "      <td>64</td>\n",
       "      <td>0</td>\n",
       "      <td>0</td>\n",
       "      <td>64</td>\n",
       "      <td>0</td>\n",
       "      <td>0.058625</td>\n",
       "    </tr>\n",
       "    <tr>\n",
       "      <th>3</th>\n",
       "      <td>0.0</td>\n",
       "      <td>0.033</td>\n",
       "      <td>0.0</td>\n",
       "      <td>0.0</td>\n",
       "      <td>0.0</td>\n",
       "      <td>0.0</td>\n",
       "      <td>0.0</td>\n",
       "      <td>0.0</td>\n",
       "      <td>0.0</td>\n",
       "      <td>0.0</td>\n",
       "      <td>...</td>\n",
       "      <td>0</td>\n",
       "      <td>64</td>\n",
       "      <td>0</td>\n",
       "      <td>0</td>\n",
       "      <td>64</td>\n",
       "      <td>0</td>\n",
       "      <td>0</td>\n",
       "      <td>64</td>\n",
       "      <td>0</td>\n",
       "      <td>0.057375</td>\n",
       "    </tr>\n",
       "    <tr>\n",
       "      <th>4</th>\n",
       "      <td>0.0</td>\n",
       "      <td>0.033</td>\n",
       "      <td>0.0</td>\n",
       "      <td>0.0</td>\n",
       "      <td>0.0</td>\n",
       "      <td>0.0</td>\n",
       "      <td>0.0</td>\n",
       "      <td>0.0</td>\n",
       "      <td>0.0</td>\n",
       "      <td>0.0</td>\n",
       "      <td>...</td>\n",
       "      <td>0</td>\n",
       "      <td>64</td>\n",
       "      <td>0</td>\n",
       "      <td>0</td>\n",
       "      <td>64</td>\n",
       "      <td>0</td>\n",
       "      <td>0</td>\n",
       "      <td>64</td>\n",
       "      <td>0</td>\n",
       "      <td>0.056750</td>\n",
       "    </tr>\n",
       "    <tr>\n",
       "      <th>...</th>\n",
       "      <td>...</td>\n",
       "      <td>...</td>\n",
       "      <td>...</td>\n",
       "      <td>...</td>\n",
       "      <td>...</td>\n",
       "      <td>...</td>\n",
       "      <td>...</td>\n",
       "      <td>...</td>\n",
       "      <td>...</td>\n",
       "      <td>...</td>\n",
       "      <td>...</td>\n",
       "      <td>...</td>\n",
       "      <td>...</td>\n",
       "      <td>...</td>\n",
       "      <td>...</td>\n",
       "      <td>...</td>\n",
       "      <td>...</td>\n",
       "      <td>...</td>\n",
       "      <td>...</td>\n",
       "      <td>...</td>\n",
       "      <td>...</td>\n",
       "    </tr>\n",
       "    <tr>\n",
       "      <th>1319</th>\n",
       "      <td>4.0</td>\n",
       "      <td>0.000</td>\n",
       "      <td>0.0</td>\n",
       "      <td>0.0</td>\n",
       "      <td>0.0</td>\n",
       "      <td>0.0</td>\n",
       "      <td>0.0</td>\n",
       "      <td>0.0</td>\n",
       "      <td>0.0</td>\n",
       "      <td>0.0</td>\n",
       "      <td>...</td>\n",
       "      <td>0</td>\n",
       "      <td>64</td>\n",
       "      <td>0</td>\n",
       "      <td>0</td>\n",
       "      <td>64</td>\n",
       "      <td>0</td>\n",
       "      <td>0</td>\n",
       "      <td>64</td>\n",
       "      <td>0</td>\n",
       "      <td>0.735625</td>\n",
       "    </tr>\n",
       "    <tr>\n",
       "      <th>1320</th>\n",
       "      <td>4.0</td>\n",
       "      <td>0.000</td>\n",
       "      <td>0.0</td>\n",
       "      <td>0.0</td>\n",
       "      <td>0.0</td>\n",
       "      <td>0.0</td>\n",
       "      <td>0.0</td>\n",
       "      <td>0.0</td>\n",
       "      <td>0.0</td>\n",
       "      <td>0.0</td>\n",
       "      <td>...</td>\n",
       "      <td>0</td>\n",
       "      <td>64</td>\n",
       "      <td>0</td>\n",
       "      <td>0</td>\n",
       "      <td>64</td>\n",
       "      <td>0</td>\n",
       "      <td>0</td>\n",
       "      <td>64</td>\n",
       "      <td>0</td>\n",
       "      <td>0.452500</td>\n",
       "    </tr>\n",
       "    <tr>\n",
       "      <th>1321</th>\n",
       "      <td>4.0</td>\n",
       "      <td>0.000</td>\n",
       "      <td>0.0</td>\n",
       "      <td>0.0</td>\n",
       "      <td>0.0</td>\n",
       "      <td>0.0</td>\n",
       "      <td>0.0</td>\n",
       "      <td>0.0</td>\n",
       "      <td>0.0</td>\n",
       "      <td>0.0</td>\n",
       "      <td>...</td>\n",
       "      <td>0</td>\n",
       "      <td>64</td>\n",
       "      <td>0</td>\n",
       "      <td>0</td>\n",
       "      <td>64</td>\n",
       "      <td>0</td>\n",
       "      <td>0</td>\n",
       "      <td>64</td>\n",
       "      <td>0</td>\n",
       "      <td>0.484125</td>\n",
       "    </tr>\n",
       "    <tr>\n",
       "      <th>1322</th>\n",
       "      <td>4.0</td>\n",
       "      <td>0.000</td>\n",
       "      <td>0.0</td>\n",
       "      <td>0.0</td>\n",
       "      <td>0.0</td>\n",
       "      <td>0.0</td>\n",
       "      <td>0.0</td>\n",
       "      <td>0.0</td>\n",
       "      <td>0.0</td>\n",
       "      <td>0.0</td>\n",
       "      <td>...</td>\n",
       "      <td>0</td>\n",
       "      <td>64</td>\n",
       "      <td>0</td>\n",
       "      <td>0</td>\n",
       "      <td>64</td>\n",
       "      <td>0</td>\n",
       "      <td>0</td>\n",
       "      <td>64</td>\n",
       "      <td>0</td>\n",
       "      <td>0.403625</td>\n",
       "    </tr>\n",
       "    <tr>\n",
       "      <th>1323</th>\n",
       "      <td>4.0</td>\n",
       "      <td>0.000</td>\n",
       "      <td>0.0</td>\n",
       "      <td>0.0</td>\n",
       "      <td>0.0</td>\n",
       "      <td>0.0</td>\n",
       "      <td>0.0</td>\n",
       "      <td>0.0</td>\n",
       "      <td>0.0</td>\n",
       "      <td>0.0</td>\n",
       "      <td>...</td>\n",
       "      <td>0</td>\n",
       "      <td>64</td>\n",
       "      <td>0</td>\n",
       "      <td>0</td>\n",
       "      <td>64</td>\n",
       "      <td>0</td>\n",
       "      <td>0</td>\n",
       "      <td>64</td>\n",
       "      <td>0</td>\n",
       "      <td>0.306625</td>\n",
       "    </tr>\n",
       "  </tbody>\n",
       "</table>\n",
       "<p>1324 rows × 51 columns</p>\n",
       "</div>"
      ],
      "text/plain": [
       "      Dorosperse Red KKL  Dorosperse Blue KKL  Dorosperse B/K KKL  \\\n",
       "0                    0.0                0.033                 0.0   \n",
       "1                    0.0                0.033                 0.0   \n",
       "2                    0.0                0.033                 0.0   \n",
       "3                    0.0                0.033                 0.0   \n",
       "4                    0.0                0.033                 0.0   \n",
       "...                  ...                  ...                 ...   \n",
       "1319                 4.0                0.000                 0.0   \n",
       "1320                 4.0                0.000                 0.0   \n",
       "1321                 4.0                0.000                 0.0   \n",
       "1322                 4.0                0.000                 0.0   \n",
       "1323                 4.0                0.000                 0.0   \n",
       "\n",
       "      Dorosperse Dark Grey KKL  Dorosperse Brown K-3LR  Dianix Yellow AM-2R  \\\n",
       "0                          0.0                     0.0                  0.0   \n",
       "1                          0.0                     0.0                  0.0   \n",
       "2                          0.0                     0.0                  0.0   \n",
       "3                          0.0                     0.0                  0.0   \n",
       "4                          0.0                     0.0                  0.0   \n",
       "...                        ...                     ...                  ...   \n",
       "1319                       0.0                     0.0                  0.0   \n",
       "1320                       0.0                     0.0                  0.0   \n",
       "1321                       0.0                     0.0                  0.0   \n",
       "1322                       0.0                     0.0                  0.0   \n",
       "1323                       0.0                     0.0                  0.0   \n",
       "\n",
       "      Dianix Red AM-SLR  Dianix Blue AM-2G  Dianix Black AM-SLR  \\\n",
       "0                   0.0                0.0                  0.0   \n",
       "1                   0.0                0.0                  0.0   \n",
       "2                   0.0                0.0                  0.0   \n",
       "3                   0.0                0.0                  0.0   \n",
       "4                   0.0                0.0                  0.0   \n",
       "...                 ...                ...                  ...   \n",
       "1319                0.0                0.0                  0.0   \n",
       "1320                0.0                0.0                  0.0   \n",
       "1321                0.0                0.0                  0.0   \n",
       "1322                0.0                0.0                  0.0   \n",
       "1323                0.0                0.0                  0.0   \n",
       "\n",
       "      Dianix Grey AM-SLR  ...  Lab 염색 하강속도 #2  Lab 염색 하강온도 #2  \\\n",
       "0                    0.0  ...               0              64   \n",
       "1                    0.0  ...               0              64   \n",
       "2                    0.0  ...               0              64   \n",
       "3                    0.0  ...               0              64   \n",
       "4                    0.0  ...               0              64   \n",
       "...                  ...  ...             ...             ...   \n",
       "1319                 0.0  ...               0              64   \n",
       "1320                 0.0  ...               0              64   \n",
       "1321                 0.0  ...               0              64   \n",
       "1322                 0.0  ...               0              64   \n",
       "1323                 0.0  ...               0              64   \n",
       "\n",
       "      Lab 염색 하강온도 #2 유지시간  Lab 염색 하강속도 #3  Lab 염색 하강온도 #3  \\\n",
       "0                       0               0              64   \n",
       "1                       0               0              64   \n",
       "2                       0               0              64   \n",
       "3                       0               0              64   \n",
       "4                       0               0              64   \n",
       "...                   ...             ...             ...   \n",
       "1319                    0               0              64   \n",
       "1320                    0               0              64   \n",
       "1321                    0               0              64   \n",
       "1322                    0               0              64   \n",
       "1323                    0               0              64   \n",
       "\n",
       "      Lab 염색 하강온도 #3 유지시간  Lab 염색 종료속도  Lab 염색 종료온도  Lab 염색 종료온도 유지시간  \\\n",
       "0                       0            0           64                 0   \n",
       "1                       0            0           64                 0   \n",
       "2                       0            0           64                 0   \n",
       "3                       0            0           64                 0   \n",
       "4                       0            0           64                 0   \n",
       "...                   ...          ...          ...               ...   \n",
       "1319                    0            0           64                 0   \n",
       "1320                    0            0           64                 0   \n",
       "1321                    0            0           64                 0   \n",
       "1322                    0            0           64                 0   \n",
       "1323                    0            0           64                 0   \n",
       "\n",
       "      잔욕염색 검사_K/S  \n",
       "0        0.058625  \n",
       "1        0.062750  \n",
       "2        0.058625  \n",
       "3        0.057375  \n",
       "4        0.056750  \n",
       "...           ...  \n",
       "1319     0.735625  \n",
       "1320     0.452500  \n",
       "1321     0.484125  \n",
       "1322     0.403625  \n",
       "1323     0.306625  \n",
       "\n",
       "[1324 rows x 51 columns]"
      ]
     },
     "execution_count": 9,
     "metadata": {},
     "output_type": "execute_result"
    }
   ],
   "source": [
    "data = pd.read_csv('C:/Users/leewa/Desktop/공정변수.csv',encoding='euc-kr')\n",
    "x = data[['Dorosperse Red KKL', 'Dorosperse Blue KKL', 'Dorosperse B/K KKL',\n",
    "       'Dorosperse Dark Grey KKL', 'Dorosperse Brown K-3LR',\n",
    "       'Dianix Yellow AM-2R', 'Dianix Red AM-SLR', 'Dianix Blue AM-2G',\n",
    "       'Dianix Black AM-SLR', 'Dianix Grey AM-SLR', 'Dianix Yellow Brown AM-R',\n",
    "       'Dorosperse Yellow KKL', 'Dorosperse Black KKL','Dorosperse Red KKL_prop', 'Dorosperse Blue KKL_prop', 'Dorosperse B/K KKL_prop',\n",
    "       'Dorosperse Dark Grey KKL_prop', 'Dorosperse Brown K-3LR_prop',\n",
    "       'Dianix Yellow AM-2R_prop', 'Dianix Red AM-SLR_prop', 'Dianix Blue AM-2G_prop',\n",
    "       'Dianix Black AM-SLR_prop', 'Dianix Grey AM-SLR_prop', 'Dianix Yellow Brown AM-R_prop',\n",
    "       'Dorosperse Yellow KKL_prop', 'Dorosperse Black KKL_prop','배합_Sunsolt RM-340S', '배합_빙초산', 'Lab 염색 시작온도', 'Lab 염색 상승속도 #1',\n",
    "       'Lab 염색 상승온도 #1', 'Lab 염색 상승온도 #1 유지시간', 'Lab 염색 상승속도 #2',\n",
    "       'Lab 염색 상승온도 #2', 'Lab 염색 상승온도 #2 유지시간', 'Lab 염색 상승속도 #3',\n",
    "       'Lab 염색 상승온도 #3', 'Lab 염색 상승온도 #3 유지시간', 'Lab 염색 하강속도 #1',\n",
    "       'Lab 염색 하강온도 #1', 'Lab 염색 하강온도 #1 유지시간', 'Lab 염색 하강속도 #2',\n",
    "       'Lab 염색 하강온도 #2', 'Lab 염색 하강온도 #2 유지시간', 'Lab 염색 하강속도 #3',\n",
    "       'Lab 염색 하강온도 #3', 'Lab 염색 하강온도 #3 유지시간', 'Lab 염색 종료속도', 'Lab 염색 종료온도',\n",
    "       'Lab 염색 종료온도 유지시간']]\n",
    "y = data[['잔욕염색 검사_K/S']]\n",
    "x_train, x_test, y_train, y_test = train_test_split(x,y, train_size=0.8, test_size=0.2, random_state=42)\n",
    "estimator = GradientBoostingRegressor(n_estimators = 500,max_depth=8, min_samples_split=7,random_state=0)\n",
    "estimator.fit(x_train,y_train)\n",
    "y_pred = estimator.predict(x)\n",
    "data"
   ]
  },
  {
   "cell_type": "code",
   "execution_count": 10,
   "id": "12f9e733",
   "metadata": {},
   "outputs": [],
   "source": [
    "class Setting:\n",
    "    def __init__(self, path):\n",
    "        self.dats = pd.read_excel(path)\n",
    "    \n",
    "    def set_row(self, row_num):\n",
    "        self.row = row_num\n",
    "        return self.dats.iloc[self.row,0]\n",
    "\n",
    "    def value(self, column_num):\n",
    "        return self.dats.iloc[self.row, column_num]\n",
    "    \n",
    "setting = Setting('C:/Users/leewa/Desktop/분석대상.xlsx')\n",
    "\n",
    "class State:\n",
    "    def __init__(self):\n",
    "        self.state_1 = state_1\n",
    "        self.state_2 = state_2\n",
    "        self.state_3 = state_3\n",
    "        self.state_4 = state_4\n",
    "        self.state_5 = state_5\n",
    "    \n",
    "    \n",
    "    def __repr__(self):\n",
    "        return f\"state_1: {self.state_1}, state_2: {self.state_2}, state_3: {self.state_3}, state_4: {self.state_4}, state_5: {self.state_5}\"\n",
    "   \n",
    "    def get_ks(self,row):\n",
    "        statex = {\n",
    "            'Dorosperse Red KKL': [A], \n",
    "            'Dorosperse Blue KKL': [B],\n",
    "            'Dorosperse B/K KKL': [C], \n",
    "            'Dorosperse Dark Grey KKL': [D],\n",
    "            'Dorosperse Brown K-3LR': [E], \n",
    "            'Dianix Yellow AM-2R': [F],\n",
    "            'Dianix Red AM-SLR': [G], \n",
    "            'Dianix Blue AM-2G': [H],\n",
    "            'Dianix Black AM-SLR': [I],\n",
    "            'Dianix Grey AM-SLR': [J], \n",
    "            'Dianix Yellow Brown AM-R': [K],\n",
    "            'Dorosperse Yellow KKL': [L], \n",
    "            'Dorosperse Black KKL': [M],\n",
    "            'Dorosperse Red KKL_prop': [N], \n",
    "            'Dorosperse Blue KKL_prop': [O],\n",
    "            'Dorosperse B/K KKL_prop': [P], \n",
    "            'Dorosperse Dark Grey KKL_prop': [Q],\n",
    "            'Dorosperse Brown K-3LR_prop': [R], \n",
    "            'Dianix Yellow AM-2R_prop': [S],\n",
    "            'Dianix Red AM-SLR_prop': [T], \n",
    "            'Dianix Blue AM-2G_prop': [U],\n",
    "            'Dianix Black AM-SLR_prop': [V],\n",
    "            'Dianix Grey AM-SLR_prop': [W],\n",
    "            'Dianix Yellow Brown AM-R_prop': [X], \n",
    "            'Dorosperse Yellow KKL_prop': [Y],\n",
    "            'Dorosperse Black KKL_prop': [Z],\n",
    "            '배합_Sunsolt RM-340S': [0.3],\n",
    "            '배합_빙초산': [0.2], \n",
    "            'Lab 염색 시작온도': [40], \n",
    "            'Lab 염색 상승속도 #1': [self.state_1],\n",
    "            'Lab 염색 상승온도 #1': [64],\n",
    "            'Lab 염색 상승온도 #1 유지시간': [0], \n",
    "            'Lab 염색 상승속도 #2': [self.state_2],\n",
    "            'Lab 염색 상승온도 #2': [100],\n",
    "            'Lab 염색 상승온도 #2 유지시간': [0],\n",
    "            'Lab 염색 상승속도 #3': [self.state_3],\n",
    "            'Lab 염색 상승온도 #3': [self.state_4],\n",
    "            'Lab 염색 상승온도 #3 유지시간': [self.state_5],\n",
    "            'Lab 염색 하강속도 #1': [1.97222],\n",
    "            'Lab 염색 하강온도 #1': [64],\n",
    "            'Lab 염색 하강온도 #1 유지시간': [0],\n",
    "            'Lab 염색 하강속도 #2': [0],\n",
    "            'Lab 염색 하강온도 #2': [64],\n",
    "            'Lab 염색 하강온도 #2 유지시간': [0],\n",
    "            'Lab 염색 하강속도 #3': [0],\n",
    "            'Lab 염색 하강온도 #3': [64],\n",
    "            'Lab 염색 하강온도 #3 유지시간': [0],\n",
    "            'Lab 염색 종료속도': [0],\n",
    "            'Lab 염색 종료온도': [64],\n",
    "            'Lab 염색 종료온도 유지시간': [0]}\n",
    "        statex = pd.DataFrame(statex)\n",
    "        state_ks = estimator.predict(statex)\n",
    "        statex = pd.DataFrame(statex)\n",
    "        return estimator.predict(statex)"
   ]
  },
  {
   "cell_type": "code",
   "execution_count": null,
   "id": "1b8ff3c3",
   "metadata": {},
   "outputs": [
    {
     "name": "stderr",
     "output_type": "stream",
     "text": [
      "C:\\Users\\leewa\\AppData\\Local\\Temp\\ipykernel_8044\\976874835.py:84: FutureWarning: Setting the `book` attribute is not part of the public API, usage can give unexpected or corrupted results and will be removed in a future version\n",
      "  writer.book = openpyxl.load_workbook(file_path)\n"
     ]
    },
    {
     "name": "stdout",
     "output_type": "stream",
     "text": [
      "DataFrame 저장 완료 - Sheet1\n",
      "1.5\n"
     ]
    },
    {
     "name": "stderr",
     "output_type": "stream",
     "text": [
      "C:\\Users\\leewa\\AppData\\Local\\Temp\\ipykernel_8044\\976874835.py:84: FutureWarning: Setting the `book` attribute is not part of the public API, usage can give unexpected or corrupted results and will be removed in a future version\n",
      "  writer.book = openpyxl.load_workbook(file_path)\n"
     ]
    },
    {
     "name": "stdout",
     "output_type": "stream",
     "text": [
      "DataFrame 저장 완료 - Sheet2\n",
      "2.0\n"
     ]
    },
    {
     "name": "stderr",
     "output_type": "stream",
     "text": [
      "C:\\Users\\leewa\\AppData\\Local\\Temp\\ipykernel_8044\\976874835.py:84: FutureWarning: Setting the `book` attribute is not part of the public API, usage can give unexpected or corrupted results and will be removed in a future version\n",
      "  writer.book = openpyxl.load_workbook(file_path)\n"
     ]
    },
    {
     "name": "stdout",
     "output_type": "stream",
     "text": [
      "DataFrame 저장 완료 - Sheet3\n",
      "2.0\n"
     ]
    },
    {
     "name": "stderr",
     "output_type": "stream",
     "text": [
      "C:\\Users\\leewa\\AppData\\Local\\Temp\\ipykernel_8044\\976874835.py:84: FutureWarning: Setting the `book` attribute is not part of the public API, usage can give unexpected or corrupted results and will be removed in a future version\n",
      "  writer.book = openpyxl.load_workbook(file_path)\n"
     ]
    },
    {
     "name": "stdout",
     "output_type": "stream",
     "text": [
      "DataFrame 저장 완료 - Sheet4\n",
      "2.0\n"
     ]
    },
    {
     "name": "stderr",
     "output_type": "stream",
     "text": [
      "C:\\Users\\leewa\\AppData\\Local\\Temp\\ipykernel_8044\\976874835.py:84: FutureWarning: Setting the `book` attribute is not part of the public API, usage can give unexpected or corrupted results and will be removed in a future version\n",
      "  writer.book = openpyxl.load_workbook(file_path)\n"
     ]
    },
    {
     "name": "stdout",
     "output_type": "stream",
     "text": [
      "DataFrame 저장 완료 - Sheet5\n",
      "2.0\n"
     ]
    },
    {
     "name": "stderr",
     "output_type": "stream",
     "text": [
      "C:\\Users\\leewa\\AppData\\Local\\Temp\\ipykernel_8044\\976874835.py:84: FutureWarning: Setting the `book` attribute is not part of the public API, usage can give unexpected or corrupted results and will be removed in a future version\n",
      "  writer.book = openpyxl.load_workbook(file_path)\n"
     ]
    },
    {
     "name": "stdout",
     "output_type": "stream",
     "text": [
      "DataFrame 저장 완료 - Sheet6\n",
      "2.0\n"
     ]
    },
    {
     "name": "stderr",
     "output_type": "stream",
     "text": [
      "C:\\Users\\leewa\\AppData\\Local\\Temp\\ipykernel_8044\\976874835.py:84: FutureWarning: Setting the `book` attribute is not part of the public API, usage can give unexpected or corrupted results and will be removed in a future version\n",
      "  writer.book = openpyxl.load_workbook(file_path)\n"
     ]
    },
    {
     "name": "stdout",
     "output_type": "stream",
     "text": [
      "DataFrame 저장 완료 - Sheet7\n",
      "2.0\n"
     ]
    },
    {
     "name": "stderr",
     "output_type": "stream",
     "text": [
      "C:\\Users\\leewa\\AppData\\Local\\Temp\\ipykernel_8044\\976874835.py:84: FutureWarning: Setting the `book` attribute is not part of the public API, usage can give unexpected or corrupted results and will be removed in a future version\n",
      "  writer.book = openpyxl.load_workbook(file_path)\n"
     ]
    },
    {
     "name": "stdout",
     "output_type": "stream",
     "text": [
      "DataFrame 저장 완료 - Sheet8\n",
      "2.667\n"
     ]
    },
    {
     "name": "stderr",
     "output_type": "stream",
     "text": [
      "C:\\Users\\leewa\\AppData\\Local\\Temp\\ipykernel_8044\\976874835.py:84: FutureWarning: Setting the `book` attribute is not part of the public API, usage can give unexpected or corrupted results and will be removed in a future version\n",
      "  writer.book = openpyxl.load_workbook(file_path)\n"
     ]
    },
    {
     "name": "stdout",
     "output_type": "stream",
     "text": [
      "DataFrame 저장 완료 - Sheet9\n",
      "2.667\n"
     ]
    },
    {
     "name": "stderr",
     "output_type": "stream",
     "text": [
      "C:\\Users\\leewa\\AppData\\Local\\Temp\\ipykernel_8044\\976874835.py:84: FutureWarning: Setting the `book` attribute is not part of the public API, usage can give unexpected or corrupted results and will be removed in a future version\n",
      "  writer.book = openpyxl.load_workbook(file_path)\n"
     ]
    },
    {
     "name": "stdout",
     "output_type": "stream",
     "text": [
      "DataFrame 저장 완료 - Sheet10\n",
      "3.0\n"
     ]
    },
    {
     "name": "stderr",
     "output_type": "stream",
     "text": [
      "C:\\Users\\leewa\\AppData\\Local\\Temp\\ipykernel_8044\\976874835.py:84: FutureWarning: Setting the `book` attribute is not part of the public API, usage can give unexpected or corrupted results and will be removed in a future version\n",
      "  writer.book = openpyxl.load_workbook(file_path)\n"
     ]
    },
    {
     "name": "stdout",
     "output_type": "stream",
     "text": [
      "DataFrame 저장 완료 - Sheet11\n",
      "4.0\n"
     ]
    },
    {
     "name": "stderr",
     "output_type": "stream",
     "text": [
      "C:\\Users\\leewa\\AppData\\Local\\Temp\\ipykernel_8044\\976874835.py:84: FutureWarning: Setting the `book` attribute is not part of the public API, usage can give unexpected or corrupted results and will be removed in a future version\n",
      "  writer.book = openpyxl.load_workbook(file_path)\n"
     ]
    },
    {
     "name": "stdout",
     "output_type": "stream",
     "text": [
      "DataFrame 저장 완료 - Sheet12\n",
      "4.0\n"
     ]
    },
    {
     "name": "stderr",
     "output_type": "stream",
     "text": [
      "C:\\Users\\leewa\\AppData\\Local\\Temp\\ipykernel_8044\\976874835.py:84: FutureWarning: Setting the `book` attribute is not part of the public API, usage can give unexpected or corrupted results and will be removed in a future version\n",
      "  writer.book = openpyxl.load_workbook(file_path)\n"
     ]
    },
    {
     "name": "stdout",
     "output_type": "stream",
     "text": [
      "DataFrame 저장 완료 - Sheet13\n",
      "4.0\n"
     ]
    },
    {
     "name": "stderr",
     "output_type": "stream",
     "text": [
      "C:\\Users\\leewa\\AppData\\Local\\Temp\\ipykernel_8044\\976874835.py:84: FutureWarning: Setting the `book` attribute is not part of the public API, usage can give unexpected or corrupted results and will be removed in a future version\n",
      "  writer.book = openpyxl.load_workbook(file_path)\n"
     ]
    },
    {
     "name": "stdout",
     "output_type": "stream",
     "text": [
      "DataFrame 저장 완료 - Sheet14\n",
      "6.0\n"
     ]
    },
    {
     "name": "stderr",
     "output_type": "stream",
     "text": [
      "C:\\Users\\leewa\\AppData\\Local\\Temp\\ipykernel_8044\\976874835.py:84: FutureWarning: Setting the `book` attribute is not part of the public API, usage can give unexpected or corrupted results and will be removed in a future version\n",
      "  writer.book = openpyxl.load_workbook(file_path)\n"
     ]
    },
    {
     "name": "stdout",
     "output_type": "stream",
     "text": [
      "DataFrame 저장 완료 - Sheet15\n",
      "0.0\n"
     ]
    },
    {
     "name": "stderr",
     "output_type": "stream",
     "text": [
      "C:\\Users\\leewa\\AppData\\Local\\Temp\\ipykernel_8044\\976874835.py:84: FutureWarning: Setting the `book` attribute is not part of the public API, usage can give unexpected or corrupted results and will be removed in a future version\n",
      "  writer.book = openpyxl.load_workbook(file_path)\n"
     ]
    },
    {
     "name": "stdout",
     "output_type": "stream",
     "text": [
      "DataFrame 저장 완료 - Sheet16\n",
      "0.0\n"
     ]
    },
    {
     "name": "stderr",
     "output_type": "stream",
     "text": [
      "C:\\Users\\leewa\\AppData\\Local\\Temp\\ipykernel_8044\\976874835.py:84: FutureWarning: Setting the `book` attribute is not part of the public API, usage can give unexpected or corrupted results and will be removed in a future version\n",
      "  writer.book = openpyxl.load_workbook(file_path)\n"
     ]
    },
    {
     "name": "stdout",
     "output_type": "stream",
     "text": [
      "DataFrame 저장 완료 - Sheet17\n",
      "0.0\n"
     ]
    },
    {
     "name": "stderr",
     "output_type": "stream",
     "text": [
      "C:\\Users\\leewa\\AppData\\Local\\Temp\\ipykernel_8044\\976874835.py:84: FutureWarning: Setting the `book` attribute is not part of the public API, usage can give unexpected or corrupted results and will be removed in a future version\n",
      "  writer.book = openpyxl.load_workbook(file_path)\n"
     ]
    },
    {
     "name": "stdout",
     "output_type": "stream",
     "text": [
      "DataFrame 저장 완료 - Sheet18\n",
      "0.0\n"
     ]
    },
    {
     "name": "stderr",
     "output_type": "stream",
     "text": [
      "C:\\Users\\leewa\\AppData\\Local\\Temp\\ipykernel_8044\\976874835.py:84: FutureWarning: Setting the `book` attribute is not part of the public API, usage can give unexpected or corrupted results and will be removed in a future version\n",
      "  writer.book = openpyxl.load_workbook(file_path)\n"
     ]
    },
    {
     "name": "stdout",
     "output_type": "stream",
     "text": [
      "DataFrame 저장 완료 - Sheet19\n",
      "0.0\n"
     ]
    },
    {
     "name": "stderr",
     "output_type": "stream",
     "text": [
      "C:\\Users\\leewa\\AppData\\Local\\Temp\\ipykernel_8044\\976874835.py:84: FutureWarning: Setting the `book` attribute is not part of the public API, usage can give unexpected or corrupted results and will be removed in a future version\n",
      "  writer.book = openpyxl.load_workbook(file_path)\n"
     ]
    },
    {
     "name": "stdout",
     "output_type": "stream",
     "text": [
      "DataFrame 저장 완료 - Sheet20\n",
      "0.0\n"
     ]
    },
    {
     "name": "stderr",
     "output_type": "stream",
     "text": [
      "C:\\Users\\leewa\\AppData\\Local\\Temp\\ipykernel_8044\\976874835.py:84: FutureWarning: Setting the `book` attribute is not part of the public API, usage can give unexpected or corrupted results and will be removed in a future version\n",
      "  writer.book = openpyxl.load_workbook(file_path)\n"
     ]
    },
    {
     "name": "stdout",
     "output_type": "stream",
     "text": [
      "DataFrame 저장 완료 - Sheet21\n",
      "0.0\n"
     ]
    },
    {
     "name": "stderr",
     "output_type": "stream",
     "text": [
      "C:\\Users\\leewa\\AppData\\Local\\Temp\\ipykernel_8044\\976874835.py:84: FutureWarning: Setting the `book` attribute is not part of the public API, usage can give unexpected or corrupted results and will be removed in a future version\n",
      "  writer.book = openpyxl.load_workbook(file_path)\n"
     ]
    },
    {
     "name": "stdout",
     "output_type": "stream",
     "text": [
      "DataFrame 저장 완료 - Sheet22\n",
      "0.0\n"
     ]
    },
    {
     "name": "stderr",
     "output_type": "stream",
     "text": [
      "C:\\Users\\leewa\\AppData\\Local\\Temp\\ipykernel_8044\\976874835.py:84: FutureWarning: Setting the `book` attribute is not part of the public API, usage can give unexpected or corrupted results and will be removed in a future version\n",
      "  writer.book = openpyxl.load_workbook(file_path)\n"
     ]
    },
    {
     "name": "stdout",
     "output_type": "stream",
     "text": [
      "DataFrame 저장 완료 - Sheet23\n",
      "0.0\n"
     ]
    },
    {
     "name": "stderr",
     "output_type": "stream",
     "text": [
      "C:\\Users\\leewa\\AppData\\Local\\Temp\\ipykernel_8044\\976874835.py:84: FutureWarning: Setting the `book` attribute is not part of the public API, usage can give unexpected or corrupted results and will be removed in a future version\n",
      "  writer.book = openpyxl.load_workbook(file_path)\n"
     ]
    },
    {
     "name": "stdout",
     "output_type": "stream",
     "text": [
      "DataFrame 저장 완료 - Sheet24\n",
      "0.0\n"
     ]
    },
    {
     "name": "stderr",
     "output_type": "stream",
     "text": [
      "C:\\Users\\leewa\\AppData\\Local\\Temp\\ipykernel_8044\\976874835.py:84: FutureWarning: Setting the `book` attribute is not part of the public API, usage can give unexpected or corrupted results and will be removed in a future version\n",
      "  writer.book = openpyxl.load_workbook(file_path)\n"
     ]
    },
    {
     "name": "stdout",
     "output_type": "stream",
     "text": [
      "DataFrame 저장 완료 - Sheet25\n",
      "0.0\n"
     ]
    },
    {
     "name": "stderr",
     "output_type": "stream",
     "text": [
      "C:\\Users\\leewa\\AppData\\Local\\Temp\\ipykernel_8044\\976874835.py:84: FutureWarning: Setting the `book` attribute is not part of the public API, usage can give unexpected or corrupted results and will be removed in a future version\n",
      "  writer.book = openpyxl.load_workbook(file_path)\n"
     ]
    },
    {
     "name": "stdout",
     "output_type": "stream",
     "text": [
      "DataFrame 저장 완료 - Sheet26\n",
      "0.0\n"
     ]
    },
    {
     "name": "stderr",
     "output_type": "stream",
     "text": [
      "C:\\Users\\leewa\\AppData\\Local\\Temp\\ipykernel_8044\\976874835.py:84: FutureWarning: Setting the `book` attribute is not part of the public API, usage can give unexpected or corrupted results and will be removed in a future version\n",
      "  writer.book = openpyxl.load_workbook(file_path)\n"
     ]
    },
    {
     "name": "stdout",
     "output_type": "stream",
     "text": [
      "DataFrame 저장 완료 - Sheet27\n",
      "0.0\n"
     ]
    },
    {
     "name": "stderr",
     "output_type": "stream",
     "text": [
      "C:\\Users\\leewa\\AppData\\Local\\Temp\\ipykernel_8044\\976874835.py:84: FutureWarning: Setting the `book` attribute is not part of the public API, usage can give unexpected or corrupted results and will be removed in a future version\n",
      "  writer.book = openpyxl.load_workbook(file_path)\n"
     ]
    },
    {
     "name": "stdout",
     "output_type": "stream",
     "text": [
      "DataFrame 저장 완료 - Sheet28\n",
      "0.0\n"
     ]
    },
    {
     "name": "stderr",
     "output_type": "stream",
     "text": [
      "C:\\Users\\leewa\\AppData\\Local\\Temp\\ipykernel_8044\\976874835.py:84: FutureWarning: Setting the `book` attribute is not part of the public API, usage can give unexpected or corrupted results and will be removed in a future version\n",
      "  writer.book = openpyxl.load_workbook(file_path)\n"
     ]
    },
    {
     "name": "stdout",
     "output_type": "stream",
     "text": [
      "DataFrame 저장 완료 - Sheet29\n",
      "0.0\n"
     ]
    },
    {
     "name": "stderr",
     "output_type": "stream",
     "text": [
      "C:\\Users\\leewa\\AppData\\Local\\Temp\\ipykernel_8044\\976874835.py:84: FutureWarning: Setting the `book` attribute is not part of the public API, usage can give unexpected or corrupted results and will be removed in a future version\n",
      "  writer.book = openpyxl.load_workbook(file_path)\n"
     ]
    },
    {
     "name": "stdout",
     "output_type": "stream",
     "text": [
      "DataFrame 저장 완료 - Sheet30\n",
      "0.0\n"
     ]
    },
    {
     "name": "stderr",
     "output_type": "stream",
     "text": [
      "C:\\Users\\leewa\\AppData\\Local\\Temp\\ipykernel_8044\\976874835.py:84: FutureWarning: Setting the `book` attribute is not part of the public API, usage can give unexpected or corrupted results and will be removed in a future version\n",
      "  writer.book = openpyxl.load_workbook(file_path)\n"
     ]
    },
    {
     "name": "stdout",
     "output_type": "stream",
     "text": [
      "DataFrame 저장 완료 - Sheet31\n",
      "0.0\n"
     ]
    },
    {
     "name": "stderr",
     "output_type": "stream",
     "text": [
      "C:\\Users\\leewa\\AppData\\Local\\Temp\\ipykernel_8044\\976874835.py:84: FutureWarning: Setting the `book` attribute is not part of the public API, usage can give unexpected or corrupted results and will be removed in a future version\n",
      "  writer.book = openpyxl.load_workbook(file_path)\n"
     ]
    },
    {
     "name": "stdout",
     "output_type": "stream",
     "text": [
      "DataFrame 저장 완료 - Sheet32\n",
      "0.0\n"
     ]
    },
    {
     "name": "stderr",
     "output_type": "stream",
     "text": [
      "C:\\Users\\leewa\\AppData\\Local\\Temp\\ipykernel_8044\\976874835.py:84: FutureWarning: Setting the `book` attribute is not part of the public API, usage can give unexpected or corrupted results and will be removed in a future version\n",
      "  writer.book = openpyxl.load_workbook(file_path)\n"
     ]
    },
    {
     "name": "stdout",
     "output_type": "stream",
     "text": [
      "DataFrame 저장 완료 - Sheet33\n",
      "0.0\n"
     ]
    },
    {
     "name": "stderr",
     "output_type": "stream",
     "text": [
      "C:\\Users\\leewa\\AppData\\Local\\Temp\\ipykernel_8044\\976874835.py:84: FutureWarning: Setting the `book` attribute is not part of the public API, usage can give unexpected or corrupted results and will be removed in a future version\n",
      "  writer.book = openpyxl.load_workbook(file_path)\n"
     ]
    },
    {
     "name": "stdout",
     "output_type": "stream",
     "text": [
      "DataFrame 저장 완료 - Sheet34\n",
      "0.0\n"
     ]
    },
    {
     "name": "stderr",
     "output_type": "stream",
     "text": [
      "C:\\Users\\leewa\\AppData\\Local\\Temp\\ipykernel_8044\\976874835.py:84: FutureWarning: Setting the `book` attribute is not part of the public API, usage can give unexpected or corrupted results and will be removed in a future version\n",
      "  writer.book = openpyxl.load_workbook(file_path)\n"
     ]
    },
    {
     "name": "stdout",
     "output_type": "stream",
     "text": [
      "DataFrame 저장 완료 - Sheet35\n",
      "0.0\n"
     ]
    },
    {
     "name": "stderr",
     "output_type": "stream",
     "text": [
      "C:\\Users\\leewa\\AppData\\Local\\Temp\\ipykernel_8044\\976874835.py:84: FutureWarning: Setting the `book` attribute is not part of the public API, usage can give unexpected or corrupted results and will be removed in a future version\n",
      "  writer.book = openpyxl.load_workbook(file_path)\n"
     ]
    },
    {
     "name": "stdout",
     "output_type": "stream",
     "text": [
      "DataFrame 저장 완료 - Sheet36\n",
      "0.0\n"
     ]
    },
    {
     "name": "stderr",
     "output_type": "stream",
     "text": [
      "C:\\Users\\leewa\\AppData\\Local\\Temp\\ipykernel_8044\\976874835.py:84: FutureWarning: Setting the `book` attribute is not part of the public API, usage can give unexpected or corrupted results and will be removed in a future version\n",
      "  writer.book = openpyxl.load_workbook(file_path)\n"
     ]
    },
    {
     "name": "stdout",
     "output_type": "stream",
     "text": [
      "DataFrame 저장 완료 - Sheet37\n",
      "0.0\n"
     ]
    },
    {
     "name": "stderr",
     "output_type": "stream",
     "text": [
      "C:\\Users\\leewa\\AppData\\Local\\Temp\\ipykernel_8044\\976874835.py:84: FutureWarning: Setting the `book` attribute is not part of the public API, usage can give unexpected or corrupted results and will be removed in a future version\n",
      "  writer.book = openpyxl.load_workbook(file_path)\n"
     ]
    },
    {
     "name": "stdout",
     "output_type": "stream",
     "text": [
      "DataFrame 저장 완료 - Sheet38\n",
      "0.0\n"
     ]
    },
    {
     "name": "stderr",
     "output_type": "stream",
     "text": [
      "C:\\Users\\leewa\\AppData\\Local\\Temp\\ipykernel_8044\\976874835.py:84: FutureWarning: Setting the `book` attribute is not part of the public API, usage can give unexpected or corrupted results and will be removed in a future version\n",
      "  writer.book = openpyxl.load_workbook(file_path)\n"
     ]
    },
    {
     "name": "stdout",
     "output_type": "stream",
     "text": [
      "DataFrame 저장 완료 - Sheet39\n",
      "0.0\n"
     ]
    },
    {
     "name": "stderr",
     "output_type": "stream",
     "text": [
      "C:\\Users\\leewa\\AppData\\Local\\Temp\\ipykernel_8044\\976874835.py:84: FutureWarning: Setting the `book` attribute is not part of the public API, usage can give unexpected or corrupted results and will be removed in a future version\n",
      "  writer.book = openpyxl.load_workbook(file_path)\n"
     ]
    },
    {
     "name": "stdout",
     "output_type": "stream",
     "text": [
      "DataFrame 저장 완료 - Sheet40\n",
      "0.0\n"
     ]
    },
    {
     "name": "stderr",
     "output_type": "stream",
     "text": [
      "C:\\Users\\leewa\\AppData\\Local\\Temp\\ipykernel_8044\\976874835.py:84: FutureWarning: Setting the `book` attribute is not part of the public API, usage can give unexpected or corrupted results and will be removed in a future version\n",
      "  writer.book = openpyxl.load_workbook(file_path)\n"
     ]
    },
    {
     "name": "stdout",
     "output_type": "stream",
     "text": [
      "DataFrame 저장 완료 - Sheet41\n",
      "0.0\n"
     ]
    },
    {
     "name": "stderr",
     "output_type": "stream",
     "text": [
      "C:\\Users\\leewa\\AppData\\Local\\Temp\\ipykernel_8044\\976874835.py:84: FutureWarning: Setting the `book` attribute is not part of the public API, usage can give unexpected or corrupted results and will be removed in a future version\n",
      "  writer.book = openpyxl.load_workbook(file_path)\n"
     ]
    },
    {
     "name": "stdout",
     "output_type": "stream",
     "text": [
      "DataFrame 저장 완료 - Sheet42\n",
      "0.0\n"
     ]
    },
    {
     "name": "stderr",
     "output_type": "stream",
     "text": [
      "C:\\Users\\leewa\\AppData\\Local\\Temp\\ipykernel_8044\\976874835.py:84: FutureWarning: Setting the `book` attribute is not part of the public API, usage can give unexpected or corrupted results and will be removed in a future version\n",
      "  writer.book = openpyxl.load_workbook(file_path)\n"
     ]
    },
    {
     "name": "stdout",
     "output_type": "stream",
     "text": [
      "DataFrame 저장 완료 - Sheet43\n",
      "0.0\n"
     ]
    },
    {
     "name": "stderr",
     "output_type": "stream",
     "text": [
      "C:\\Users\\leewa\\AppData\\Local\\Temp\\ipykernel_8044\\976874835.py:84: FutureWarning: Setting the `book` attribute is not part of the public API, usage can give unexpected or corrupted results and will be removed in a future version\n",
      "  writer.book = openpyxl.load_workbook(file_path)\n"
     ]
    },
    {
     "name": "stdout",
     "output_type": "stream",
     "text": [
      "DataFrame 저장 완료 - Sheet44\n",
      "0.0\n"
     ]
    },
    {
     "name": "stderr",
     "output_type": "stream",
     "text": [
      "C:\\Users\\leewa\\AppData\\Local\\Temp\\ipykernel_8044\\976874835.py:84: FutureWarning: Setting the `book` attribute is not part of the public API, usage can give unexpected or corrupted results and will be removed in a future version\n",
      "  writer.book = openpyxl.load_workbook(file_path)\n"
     ]
    },
    {
     "name": "stdout",
     "output_type": "stream",
     "text": [
      "DataFrame 저장 완료 - Sheet45\n",
      "0.0\n"
     ]
    },
    {
     "name": "stderr",
     "output_type": "stream",
     "text": [
      "C:\\Users\\leewa\\AppData\\Local\\Temp\\ipykernel_8044\\976874835.py:84: FutureWarning: Setting the `book` attribute is not part of the public API, usage can give unexpected or corrupted results and will be removed in a future version\n",
      "  writer.book = openpyxl.load_workbook(file_path)\n"
     ]
    },
    {
     "name": "stdout",
     "output_type": "stream",
     "text": [
      "DataFrame 저장 완료 - Sheet46\n",
      "0.0\n"
     ]
    },
    {
     "name": "stderr",
     "output_type": "stream",
     "text": [
      "C:\\Users\\leewa\\AppData\\Local\\Temp\\ipykernel_8044\\976874835.py:84: FutureWarning: Setting the `book` attribute is not part of the public API, usage can give unexpected or corrupted results and will be removed in a future version\n",
      "  writer.book = openpyxl.load_workbook(file_path)\n"
     ]
    },
    {
     "name": "stdout",
     "output_type": "stream",
     "text": [
      "DataFrame 저장 완료 - Sheet47\n",
      "0.0\n"
     ]
    },
    {
     "name": "stderr",
     "output_type": "stream",
     "text": [
      "C:\\Users\\leewa\\AppData\\Local\\Temp\\ipykernel_8044\\976874835.py:84: FutureWarning: Setting the `book` attribute is not part of the public API, usage can give unexpected or corrupted results and will be removed in a future version\n",
      "  writer.book = openpyxl.load_workbook(file_path)\n"
     ]
    },
    {
     "name": "stdout",
     "output_type": "stream",
     "text": [
      "DataFrame 저장 완료 - Sheet48\n",
      "0.0\n"
     ]
    },
    {
     "name": "stderr",
     "output_type": "stream",
     "text": [
      "C:\\Users\\leewa\\AppData\\Local\\Temp\\ipykernel_8044\\976874835.py:84: FutureWarning: Setting the `book` attribute is not part of the public API, usage can give unexpected or corrupted results and will be removed in a future version\n",
      "  writer.book = openpyxl.load_workbook(file_path)\n"
     ]
    },
    {
     "name": "stdout",
     "output_type": "stream",
     "text": [
      "DataFrame 저장 완료 - Sheet49\n",
      "0.0\n"
     ]
    },
    {
     "name": "stderr",
     "output_type": "stream",
     "text": [
      "C:\\Users\\leewa\\AppData\\Local\\Temp\\ipykernel_8044\\976874835.py:84: FutureWarning: Setting the `book` attribute is not part of the public API, usage can give unexpected or corrupted results and will be removed in a future version\n",
      "  writer.book = openpyxl.load_workbook(file_path)\n"
     ]
    },
    {
     "name": "stdout",
     "output_type": "stream",
     "text": [
      "DataFrame 저장 완료 - Sheet50\n",
      "0.0\n"
     ]
    },
    {
     "name": "stderr",
     "output_type": "stream",
     "text": [
      "C:\\Users\\leewa\\AppData\\Local\\Temp\\ipykernel_8044\\976874835.py:84: FutureWarning: Setting the `book` attribute is not part of the public API, usage can give unexpected or corrupted results and will be removed in a future version\n",
      "  writer.book = openpyxl.load_workbook(file_path)\n"
     ]
    },
    {
     "name": "stdout",
     "output_type": "stream",
     "text": [
      "DataFrame 저장 완료 - Sheet51\n",
      "0.0\n"
     ]
    },
    {
     "name": "stderr",
     "output_type": "stream",
     "text": [
      "C:\\Users\\leewa\\AppData\\Local\\Temp\\ipykernel_8044\\976874835.py:84: FutureWarning: Setting the `book` attribute is not part of the public API, usage can give unexpected or corrupted results and will be removed in a future version\n",
      "  writer.book = openpyxl.load_workbook(file_path)\n"
     ]
    },
    {
     "name": "stdout",
     "output_type": "stream",
     "text": [
      "DataFrame 저장 완료 - Sheet52\n",
      "0.0\n"
     ]
    },
    {
     "name": "stderr",
     "output_type": "stream",
     "text": [
      "C:\\Users\\leewa\\AppData\\Local\\Temp\\ipykernel_8044\\976874835.py:84: FutureWarning: Setting the `book` attribute is not part of the public API, usage can give unexpected or corrupted results and will be removed in a future version\n",
      "  writer.book = openpyxl.load_workbook(file_path)\n"
     ]
    },
    {
     "name": "stdout",
     "output_type": "stream",
     "text": [
      "DataFrame 저장 완료 - Sheet53\n",
      "0.0\n"
     ]
    },
    {
     "name": "stderr",
     "output_type": "stream",
     "text": [
      "C:\\Users\\leewa\\AppData\\Local\\Temp\\ipykernel_8044\\976874835.py:84: FutureWarning: Setting the `book` attribute is not part of the public API, usage can give unexpected or corrupted results and will be removed in a future version\n",
      "  writer.book = openpyxl.load_workbook(file_path)\n"
     ]
    },
    {
     "name": "stdout",
     "output_type": "stream",
     "text": [
      "DataFrame 저장 완료 - Sheet54\n",
      "0.0\n"
     ]
    },
    {
     "name": "stderr",
     "output_type": "stream",
     "text": [
      "C:\\Users\\leewa\\AppData\\Local\\Temp\\ipykernel_8044\\976874835.py:84: FutureWarning: Setting the `book` attribute is not part of the public API, usage can give unexpected or corrupted results and will be removed in a future version\n",
      "  writer.book = openpyxl.load_workbook(file_path)\n"
     ]
    },
    {
     "name": "stdout",
     "output_type": "stream",
     "text": [
      "DataFrame 저장 완료 - Sheet55\n",
      "0.0\n"
     ]
    },
    {
     "name": "stderr",
     "output_type": "stream",
     "text": [
      "C:\\Users\\leewa\\AppData\\Local\\Temp\\ipykernel_8044\\976874835.py:84: FutureWarning: Setting the `book` attribute is not part of the public API, usage can give unexpected or corrupted results and will be removed in a future version\n",
      "  writer.book = openpyxl.load_workbook(file_path)\n"
     ]
    },
    {
     "name": "stdout",
     "output_type": "stream",
     "text": [
      "DataFrame 저장 완료 - Sheet56\n",
      "0.0\n"
     ]
    },
    {
     "name": "stderr",
     "output_type": "stream",
     "text": [
      "C:\\Users\\leewa\\AppData\\Local\\Temp\\ipykernel_8044\\976874835.py:84: FutureWarning: Setting the `book` attribute is not part of the public API, usage can give unexpected or corrupted results and will be removed in a future version\n",
      "  writer.book = openpyxl.load_workbook(file_path)\n"
     ]
    },
    {
     "name": "stdout",
     "output_type": "stream",
     "text": [
      "DataFrame 저장 완료 - Sheet57\n",
      "0.0\n"
     ]
    },
    {
     "name": "stderr",
     "output_type": "stream",
     "text": [
      "C:\\Users\\leewa\\AppData\\Local\\Temp\\ipykernel_8044\\976874835.py:84: FutureWarning: Setting the `book` attribute is not part of the public API, usage can give unexpected or corrupted results and will be removed in a future version\n",
      "  writer.book = openpyxl.load_workbook(file_path)\n"
     ]
    },
    {
     "name": "stdout",
     "output_type": "stream",
     "text": [
      "DataFrame 저장 완료 - Sheet58\n",
      "0.0\n"
     ]
    },
    {
     "name": "stderr",
     "output_type": "stream",
     "text": [
      "C:\\Users\\leewa\\AppData\\Local\\Temp\\ipykernel_8044\\976874835.py:84: FutureWarning: Setting the `book` attribute is not part of the public API, usage can give unexpected or corrupted results and will be removed in a future version\n",
      "  writer.book = openpyxl.load_workbook(file_path)\n"
     ]
    },
    {
     "name": "stdout",
     "output_type": "stream",
     "text": [
      "DataFrame 저장 완료 - Sheet59\n",
      "0.0\n"
     ]
    },
    {
     "name": "stderr",
     "output_type": "stream",
     "text": [
      "C:\\Users\\leewa\\AppData\\Local\\Temp\\ipykernel_8044\\976874835.py:84: FutureWarning: Setting the `book` attribute is not part of the public API, usage can give unexpected or corrupted results and will be removed in a future version\n",
      "  writer.book = openpyxl.load_workbook(file_path)\n"
     ]
    },
    {
     "name": "stdout",
     "output_type": "stream",
     "text": [
      "DataFrame 저장 완료 - Sheet60\n",
      "0.0\n"
     ]
    },
    {
     "name": "stderr",
     "output_type": "stream",
     "text": [
      "C:\\Users\\leewa\\AppData\\Local\\Temp\\ipykernel_8044\\976874835.py:84: FutureWarning: Setting the `book` attribute is not part of the public API, usage can give unexpected or corrupted results and will be removed in a future version\n",
      "  writer.book = openpyxl.load_workbook(file_path)\n"
     ]
    },
    {
     "name": "stdout",
     "output_type": "stream",
     "text": [
      "DataFrame 저장 완료 - Sheet61\n",
      "0.0\n"
     ]
    },
    {
     "name": "stderr",
     "output_type": "stream",
     "text": [
      "C:\\Users\\leewa\\AppData\\Local\\Temp\\ipykernel_8044\\976874835.py:84: FutureWarning: Setting the `book` attribute is not part of the public API, usage can give unexpected or corrupted results and will be removed in a future version\n",
      "  writer.book = openpyxl.load_workbook(file_path)\n"
     ]
    },
    {
     "name": "stdout",
     "output_type": "stream",
     "text": [
      "DataFrame 저장 완료 - Sheet62\n",
      "0.0\n"
     ]
    },
    {
     "name": "stderr",
     "output_type": "stream",
     "text": [
      "C:\\Users\\leewa\\AppData\\Local\\Temp\\ipykernel_8044\\976874835.py:84: FutureWarning: Setting the `book` attribute is not part of the public API, usage can give unexpected or corrupted results and will be removed in a future version\n",
      "  writer.book = openpyxl.load_workbook(file_path)\n"
     ]
    }
   ],
   "source": [
    "t = data[['Lab 염색 상승속도 #1', 'Lab 염색 상승속도 #2', 'Lab 염색 상승속도 #3', 'Lab 염색 상승온도 #3', 'Lab 염색 상승온도 #3 유지시간']]\n",
    "\n",
    "t1 = list(itertools.product(np.arange(0.5, 1.6, 0.5), repeat=2))\n",
    "t2 = list(itertools.product(np.arange(0.5, 1.6, 0.5)))\n",
    "t3 = list(itertools.product(np.arange(120, 141, 10), np.arange(10, 81, 10)))\n",
    "\n",
    "tt = [(*c, *c2, *c3) for c in t1 for c2 in t2 for c3 in t3]\n",
    "\n",
    "\n",
    "for i in range(65):\n",
    "#for i in range(110,123):\n",
    "    row = setting.set_row(i)\n",
    "    state_1_list = []\n",
    "    state_2_list = []\n",
    "    state_3_list = []\n",
    "    state_4_list = []\n",
    "    state_5_list = []\n",
    "    state_ks_list = []\n",
    "    y1_list = []\n",
    "    y2_list = []\n",
    "    y3_list = []\n",
    "    y4_list = []\n",
    "    y5_list = []\n",
    "    y6_list = []\n",
    "    for c in tt:        \n",
    "        A = setting.value(0)\n",
    "        B = setting.value(1)\n",
    "        C = setting.value(2)\n",
    "        D = setting.value(3)\n",
    "        E = setting.value(4)\n",
    "        F = setting.value(5)\n",
    "        G = setting.value(6)\n",
    "        H = setting.value(7)\n",
    "        I = setting.value(8)\n",
    "        J = setting.value(9)\n",
    "        K = setting.value(10)\n",
    "        L= setting.value(11)\n",
    "        M = setting.value(12)\n",
    "        N = setting.value(13)\n",
    "        O = setting.value(14)\n",
    "        P = setting.value(15)\n",
    "        Q = setting.value(16)\n",
    "        R = setting.value(17)\n",
    "        S = setting.value(18)\n",
    "        T = setting.value(19)\n",
    "        U = setting.value(20)\n",
    "        V = setting.value(21)\n",
    "        W = setting.value(22)\n",
    "        X = setting.value(23)\n",
    "        Y = setting.value(24)\n",
    "        Z = setting.value(25)\n",
    "        state_1 = c[0]\n",
    "        state_2 = c[1]\n",
    "        state_3 = c[2]\n",
    "        state_4 = c[3]\n",
    "        state_5 = c[4]\n",
    "        y1 = ((24*state_2*state_3)+(36*state_1*state_3)+(state_4-100)*(state_1*state_2))/(state_1*state_2*state_3)\n",
    "        y2 = (state_4-40)/(y1)\n",
    "        y3 = state_4\n",
    "        y4 = state_5\n",
    "        y5 = 1.9722\n",
    "        y6 = (state_4-64)/1.9722\n",
    "        state = State()\n",
    "        state_1_list.append(state_1)\n",
    "        state_2_list.append(state_2)\n",
    "        state_3_list.append(state_3)\n",
    "        state_4_list.append(state_4)\n",
    "        state_5_list.append(state_5)       \n",
    "        state_ks = state.get_ks(row)\n",
    "        state_ks_list.append(state_ks[0])\n",
    "        y1_list.append(y1)\n",
    "        y2_list.append(y2)\n",
    "        y3_list.append(y3)\n",
    "        y4_list.append(y4)\n",
    "        y5_list.append(y5)\n",
    "        y6_list.append(y6) \n",
    "    df = [state_1_list, state_2_list, state_3_list, state_4_list, state_5_list, state_ks_list,y1_list,y2_list,y3_list,y4_list,y5_list,y6_list]\n",
    "    result = pd.DataFrame(df).T\n",
    "    sheet_number = i + 1\n",
    "\n",
    "    # 데이터프레임을 엑셀 파일로 저장\n",
    "    file_path = 'C:/Users/leewa/Desktop/1부터4.xlsx'\n",
    "    with pd.ExcelWriter(file_path, engine='openpyxl', mode='a') as writer:\n",
    "        writer.book = openpyxl.load_workbook(file_path)\n",
    "        result.to_excel(writer, sheet_name=f'Num{i+1}')\n",
    "\n",
    "    print(f\"DataFrame 저장 완료 - Sheet{i+1}\")\n",
    "    print(row)"
   ]
  },
  {
   "cell_type": "code",
   "execution_count": null,
   "id": "9d352887",
   "metadata": {},
   "outputs": [],
   "source": []
  }
 ],
 "metadata": {
  "kernelspec": {
   "display_name": "Python 3 (ipykernel)",
   "language": "python",
   "name": "python3"
  },
  "language_info": {
   "codemirror_mode": {
    "name": "ipython",
    "version": 3
   },
   "file_extension": ".py",
   "mimetype": "text/x-python",
   "name": "python",
   "nbconvert_exporter": "python",
   "pygments_lexer": "ipython3",
   "version": "3.11.4"
  }
 },
 "nbformat": 4,
 "nbformat_minor": 5
}
