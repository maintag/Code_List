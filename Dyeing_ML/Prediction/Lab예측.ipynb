{
 "cells": [
  {
   "cell_type": "code",
   "execution_count": 1,
   "id": "8b46b096",
   "metadata": {},
   "outputs": [],
   "source": [
    "import scipy.stats as stats\n",
    "import pandas as pd\n",
    "import urllib\n",
    "import matplotlib.pyplot as plt\n",
    "import numpy as np\n",
    "import seaborn as sns\n",
    "import statsmodels.formula.api as sm\n",
    "#import smogn #회귀 문제를 위한 SMOTE 오버 샘플링 기법\n",
    "from statsmodels.formula.api import ols\n",
    "from statsmodels.stats.anova import anova_lm\n",
    "from sklearn.linear_model import LinearRegression\n",
    "from sklearn.linear_model import Ridge\n",
    "from sklearn.model_selection import train_test_split\n",
    "from sklearn.linear_model import Lasso\n",
    "from sklearn.neighbors import KNeighborsRegressor\n",
    "from sklearn.preprocessing import PolynomialFeatures\n",
    "from sklearn.preprocessing import StandardScaler\n",
    "from sklearn.preprocessing import MinMaxScaler\n",
    "from sklearn.linear_model import SGDRegressor\n",
    "from sklearn.tree import DecisionTreeRegressor\n",
    "from sklearn.ensemble import RandomForestRegressor\n",
    "from sklearn.ensemble import GradientBoostingRegressor \n",
    "from sklearn.model_selection import GridSearchCV\n",
    "from sklearn.tree import plot_tree\n",
    "from sklearn.metrics import r2_score\n",
    "from sklearn.metrics import mean_absolute_error\n",
    "from sklearn.metrics import mean_squared_error\n",
    "#from imblearn.over_sampling import SMOTENC\n",
    "from sklearn.multioutput import MultiOutputRegressor\n",
    "import pickle"
   ]
  },
  {
   "cell_type": "code",
   "execution_count": 2,
   "id": "efd665a5",
   "metadata": {},
   "outputs": [
    {
     "ename": "FileNotFoundError",
     "evalue": "[Errno 2] No such file or directory: 'C:/Users/leewa/Desktop/다이텍 강화학습/데이터/학습데이터/LAB데이터.csv'",
     "output_type": "error",
     "traceback": [
      "\u001b[1;31m---------------------------------------------------------------------------\u001b[0m",
      "\u001b[1;31mFileNotFoundError\u001b[0m                         Traceback (most recent call last)",
      "\u001b[1;32m~\\AppData\\Local\\Temp\\ipykernel_25904\\2395601450.py\u001b[0m in \u001b[0;36m<module>\u001b[1;34m\u001b[0m\n\u001b[1;32m----> 1\u001b[1;33m \u001b[0mdata\u001b[0m \u001b[1;33m=\u001b[0m \u001b[0mpd\u001b[0m\u001b[1;33m.\u001b[0m\u001b[0mread_csv\u001b[0m\u001b[1;33m(\u001b[0m\u001b[1;34m'C:/Users/leewa/Desktop/다이텍 강화학습/데이터/학습데이터/LAB데이터.csv'\u001b[0m\u001b[1;33m,\u001b[0m\u001b[0mencoding\u001b[0m\u001b[1;33m=\u001b[0m\u001b[1;34m'euc-kr'\u001b[0m\u001b[1;33m)\u001b[0m\u001b[1;33m\u001b[0m\u001b[1;33m\u001b[0m\u001b[0m\n\u001b[0m",
      "\u001b[1;32m~\\Anaconda3\\lib\\site-packages\\pandas\\util\\_decorators.py\u001b[0m in \u001b[0;36mwrapper\u001b[1;34m(*args, **kwargs)\u001b[0m\n\u001b[0;32m    309\u001b[0m                     \u001b[0mstacklevel\u001b[0m\u001b[1;33m=\u001b[0m\u001b[0mstacklevel\u001b[0m\u001b[1;33m,\u001b[0m\u001b[1;33m\u001b[0m\u001b[1;33m\u001b[0m\u001b[0m\n\u001b[0;32m    310\u001b[0m                 )\n\u001b[1;32m--> 311\u001b[1;33m             \u001b[1;32mreturn\u001b[0m \u001b[0mfunc\u001b[0m\u001b[1;33m(\u001b[0m\u001b[1;33m*\u001b[0m\u001b[0margs\u001b[0m\u001b[1;33m,\u001b[0m \u001b[1;33m**\u001b[0m\u001b[0mkwargs\u001b[0m\u001b[1;33m)\u001b[0m\u001b[1;33m\u001b[0m\u001b[1;33m\u001b[0m\u001b[0m\n\u001b[0m\u001b[0;32m    312\u001b[0m \u001b[1;33m\u001b[0m\u001b[0m\n\u001b[0;32m    313\u001b[0m         \u001b[1;32mreturn\u001b[0m \u001b[0mwrapper\u001b[0m\u001b[1;33m\u001b[0m\u001b[1;33m\u001b[0m\u001b[0m\n",
      "\u001b[1;32m~\\Anaconda3\\lib\\site-packages\\pandas\\io\\parsers\\readers.py\u001b[0m in \u001b[0;36mread_csv\u001b[1;34m(filepath_or_buffer, sep, delimiter, header, names, index_col, usecols, squeeze, prefix, mangle_dupe_cols, dtype, engine, converters, true_values, false_values, skipinitialspace, skiprows, skipfooter, nrows, na_values, keep_default_na, na_filter, verbose, skip_blank_lines, parse_dates, infer_datetime_format, keep_date_col, date_parser, dayfirst, cache_dates, iterator, chunksize, compression, thousands, decimal, lineterminator, quotechar, quoting, doublequote, escapechar, comment, encoding, encoding_errors, dialect, error_bad_lines, warn_bad_lines, on_bad_lines, delim_whitespace, low_memory, memory_map, float_precision, storage_options)\u001b[0m\n\u001b[0;32m    676\u001b[0m     \u001b[0mkwds\u001b[0m\u001b[1;33m.\u001b[0m\u001b[0mupdate\u001b[0m\u001b[1;33m(\u001b[0m\u001b[0mkwds_defaults\u001b[0m\u001b[1;33m)\u001b[0m\u001b[1;33m\u001b[0m\u001b[1;33m\u001b[0m\u001b[0m\n\u001b[0;32m    677\u001b[0m \u001b[1;33m\u001b[0m\u001b[0m\n\u001b[1;32m--> 678\u001b[1;33m     \u001b[1;32mreturn\u001b[0m \u001b[0m_read\u001b[0m\u001b[1;33m(\u001b[0m\u001b[0mfilepath_or_buffer\u001b[0m\u001b[1;33m,\u001b[0m \u001b[0mkwds\u001b[0m\u001b[1;33m)\u001b[0m\u001b[1;33m\u001b[0m\u001b[1;33m\u001b[0m\u001b[0m\n\u001b[0m\u001b[0;32m    679\u001b[0m \u001b[1;33m\u001b[0m\u001b[0m\n\u001b[0;32m    680\u001b[0m \u001b[1;33m\u001b[0m\u001b[0m\n",
      "\u001b[1;32m~\\Anaconda3\\lib\\site-packages\\pandas\\io\\parsers\\readers.py\u001b[0m in \u001b[0;36m_read\u001b[1;34m(filepath_or_buffer, kwds)\u001b[0m\n\u001b[0;32m    573\u001b[0m \u001b[1;33m\u001b[0m\u001b[0m\n\u001b[0;32m    574\u001b[0m     \u001b[1;31m# Create the parser.\u001b[0m\u001b[1;33m\u001b[0m\u001b[1;33m\u001b[0m\u001b[0m\n\u001b[1;32m--> 575\u001b[1;33m     \u001b[0mparser\u001b[0m \u001b[1;33m=\u001b[0m \u001b[0mTextFileReader\u001b[0m\u001b[1;33m(\u001b[0m\u001b[0mfilepath_or_buffer\u001b[0m\u001b[1;33m,\u001b[0m \u001b[1;33m**\u001b[0m\u001b[0mkwds\u001b[0m\u001b[1;33m)\u001b[0m\u001b[1;33m\u001b[0m\u001b[1;33m\u001b[0m\u001b[0m\n\u001b[0m\u001b[0;32m    576\u001b[0m \u001b[1;33m\u001b[0m\u001b[0m\n\u001b[0;32m    577\u001b[0m     \u001b[1;32mif\u001b[0m \u001b[0mchunksize\u001b[0m \u001b[1;32mor\u001b[0m \u001b[0miterator\u001b[0m\u001b[1;33m:\u001b[0m\u001b[1;33m\u001b[0m\u001b[1;33m\u001b[0m\u001b[0m\n",
      "\u001b[1;32m~\\Anaconda3\\lib\\site-packages\\pandas\\io\\parsers\\readers.py\u001b[0m in \u001b[0;36m__init__\u001b[1;34m(self, f, engine, **kwds)\u001b[0m\n\u001b[0;32m    930\u001b[0m \u001b[1;33m\u001b[0m\u001b[0m\n\u001b[0;32m    931\u001b[0m         \u001b[0mself\u001b[0m\u001b[1;33m.\u001b[0m\u001b[0mhandles\u001b[0m\u001b[1;33m:\u001b[0m \u001b[0mIOHandles\u001b[0m \u001b[1;33m|\u001b[0m \u001b[1;32mNone\u001b[0m \u001b[1;33m=\u001b[0m \u001b[1;32mNone\u001b[0m\u001b[1;33m\u001b[0m\u001b[1;33m\u001b[0m\u001b[0m\n\u001b[1;32m--> 932\u001b[1;33m         \u001b[0mself\u001b[0m\u001b[1;33m.\u001b[0m\u001b[0m_engine\u001b[0m \u001b[1;33m=\u001b[0m \u001b[0mself\u001b[0m\u001b[1;33m.\u001b[0m\u001b[0m_make_engine\u001b[0m\u001b[1;33m(\u001b[0m\u001b[0mf\u001b[0m\u001b[1;33m,\u001b[0m \u001b[0mself\u001b[0m\u001b[1;33m.\u001b[0m\u001b[0mengine\u001b[0m\u001b[1;33m)\u001b[0m\u001b[1;33m\u001b[0m\u001b[1;33m\u001b[0m\u001b[0m\n\u001b[0m\u001b[0;32m    933\u001b[0m \u001b[1;33m\u001b[0m\u001b[0m\n\u001b[0;32m    934\u001b[0m     \u001b[1;32mdef\u001b[0m \u001b[0mclose\u001b[0m\u001b[1;33m(\u001b[0m\u001b[0mself\u001b[0m\u001b[1;33m)\u001b[0m\u001b[1;33m:\u001b[0m\u001b[1;33m\u001b[0m\u001b[1;33m\u001b[0m\u001b[0m\n",
      "\u001b[1;32m~\\Anaconda3\\lib\\site-packages\\pandas\\io\\parsers\\readers.py\u001b[0m in \u001b[0;36m_make_engine\u001b[1;34m(self, f, engine)\u001b[0m\n\u001b[0;32m   1214\u001b[0m             \u001b[1;31m# \"Union[str, PathLike[str], ReadCsvBuffer[bytes], ReadCsvBuffer[str]]\"\u001b[0m\u001b[1;33m\u001b[0m\u001b[1;33m\u001b[0m\u001b[0m\n\u001b[0;32m   1215\u001b[0m             \u001b[1;31m# , \"str\", \"bool\", \"Any\", \"Any\", \"Any\", \"Any\", \"Any\"\u001b[0m\u001b[1;33m\u001b[0m\u001b[1;33m\u001b[0m\u001b[0m\n\u001b[1;32m-> 1216\u001b[1;33m             self.handles = get_handle(  # type: ignore[call-overload]\n\u001b[0m\u001b[0;32m   1217\u001b[0m                 \u001b[0mf\u001b[0m\u001b[1;33m,\u001b[0m\u001b[1;33m\u001b[0m\u001b[1;33m\u001b[0m\u001b[0m\n\u001b[0;32m   1218\u001b[0m                 \u001b[0mmode\u001b[0m\u001b[1;33m,\u001b[0m\u001b[1;33m\u001b[0m\u001b[1;33m\u001b[0m\u001b[0m\n",
      "\u001b[1;32m~\\Anaconda3\\lib\\site-packages\\pandas\\io\\common.py\u001b[0m in \u001b[0;36mget_handle\u001b[1;34m(path_or_buf, mode, encoding, compression, memory_map, is_text, errors, storage_options)\u001b[0m\n\u001b[0;32m    784\u001b[0m         \u001b[1;32mif\u001b[0m \u001b[0mioargs\u001b[0m\u001b[1;33m.\u001b[0m\u001b[0mencoding\u001b[0m \u001b[1;32mand\u001b[0m \u001b[1;34m\"b\"\u001b[0m \u001b[1;32mnot\u001b[0m \u001b[1;32min\u001b[0m \u001b[0mioargs\u001b[0m\u001b[1;33m.\u001b[0m\u001b[0mmode\u001b[0m\u001b[1;33m:\u001b[0m\u001b[1;33m\u001b[0m\u001b[1;33m\u001b[0m\u001b[0m\n\u001b[0;32m    785\u001b[0m             \u001b[1;31m# Encoding\u001b[0m\u001b[1;33m\u001b[0m\u001b[1;33m\u001b[0m\u001b[0m\n\u001b[1;32m--> 786\u001b[1;33m             handle = open(\n\u001b[0m\u001b[0;32m    787\u001b[0m                 \u001b[0mhandle\u001b[0m\u001b[1;33m,\u001b[0m\u001b[1;33m\u001b[0m\u001b[1;33m\u001b[0m\u001b[0m\n\u001b[0;32m    788\u001b[0m                 \u001b[0mioargs\u001b[0m\u001b[1;33m.\u001b[0m\u001b[0mmode\u001b[0m\u001b[1;33m,\u001b[0m\u001b[1;33m\u001b[0m\u001b[1;33m\u001b[0m\u001b[0m\n",
      "\u001b[1;31mFileNotFoundError\u001b[0m: [Errno 2] No such file or directory: 'C:/Users/leewa/Desktop/다이텍 강화학습/데이터/학습데이터/LAB데이터.csv'"
     ]
    }
   ],
   "source": [
    "data = pd.read_csv('C:/Users/leewa/Desktop/다이텍 강화학습/데이터/학습데이터/LAB데이터.csv',encoding='euc-kr')"
   ]
  },
  {
   "cell_type": "markdown",
   "id": "b9e6d249",
   "metadata": {},
   "source": [
    "# L,A,B염색"
   ]
  },
  {
   "cell_type": "code",
   "execution_count": null,
   "id": "81666713",
   "metadata": {},
   "outputs": [],
   "source": [
    "x = data[['Dorosperse Red KKL', 'Dorosperse Blue KKL', 'Dorosperse B/K KKL',\n",
    "       'Dorosperse Dark Grey KKL', 'Dorosperse Brown K-3LR',\n",
    "       'Dianix Yellow AM-2R', 'Dianix Red AM-SLR', 'Dianix Blue AM-2G',\n",
    "       'Dianix Black AM-SLR', 'Dianix Grey AM-SLR', 'Dianix Yellow Brown AM-R',\n",
    "       'Dorosperse Yellow KKL', 'Dorosperse Black KKL','Dorosperse Red KKL_prop', 'Dorosperse Blue KKL_prop', 'Dorosperse B/K KKL_prop',\n",
    "       'Dorosperse Dark Grey KKL_prop', 'Dorosperse Brown K-3LR_prop',\n",
    "       'Dianix Yellow AM-2R_prop', 'Dianix Red AM-SLR_prop', 'Dianix Blue AM-2G_prop',\n",
    "       'Dianix Black AM-SLR_prop', 'Dianix Grey AM-SLR_prop', 'Dianix Yellow Brown AM-R_prop',\n",
    "       'Dorosperse Yellow KKL_prop', 'Dorosperse Black KKL_prop','배합_Sunsolt RM-340S', '배합_빙초산', 'Lab 염색 시작온도', 'Lab 염색 상승속도 #1',\n",
    "       'Lab 염색 상승온도 #1', 'Lab 염색 상승온도 #1 유지시간', 'Lab 염색 상승속도 #2',\n",
    "       'Lab 염색 상승온도 #2', 'Lab 염색 상승온도 #2 유지시간', 'Lab 염색 상승속도 #3',\n",
    "       'Lab 염색 상승온도 #3', 'Lab 염색 상승온도 #3 유지시간', 'Lab 염색 하강속도 #1',\n",
    "       'Lab 염색 하강온도 #1', 'Lab 염색 하강온도 #1 유지시간', 'Lab 염색 하강속도 #2',\n",
    "       'Lab 염색 하강온도 #2', 'Lab 염색 하강온도 #2 유지시간', 'Lab 염색 하강속도 #3',\n",
    "       'Lab 염색 하강온도 #3', 'Lab 염색 하강온도 #3 유지시간', 'Lab 염색 종료속도', 'Lab 염색 종료온도',\n",
    "       'Lab 염색 종료온도 유지시간']]\n",
    "y = data[['잔욕염색 검사_L*','잔욕염색 검사_a*','잔욕염색 검사_b*']]\n",
    "x_train, x_test, y_train, y_test = train_test_split(x,y, train_size=0.8, test_size=0.2, random_state=42)\n",
    "Labestimator = GradientBoostingRegressor(n_estimators=500, max_depth=8, min_samples_split=7, random_state=0)\n",
    "Lab = MultiOutputRegressor(Labestimator)\n",
    "Lab.fit(x_train, y_train)\n",
    "Lab_pred = Lab.predict(x)\n",
    "print(\"r^2 score: {:.2f}\".format(r2_score(y, Lab_pred))) # r2스코어\n",
    "print(\"MAE score: {:.2f}\".format(mean_absolute_error(y,Lab_pred))) # MAE스코어\n",
    "print(\"MSE score: {:.2f}\".format(mean_squared_error(y,Lab_pred))) # MSE스코어"
   ]
  },
  {
   "cell_type": "markdown",
   "id": "329fd5ab",
   "metadata": {},
   "source": [
    "# L* 학습"
   ]
  },
  {
   "cell_type": "code",
   "execution_count": null,
   "id": "6514b193",
   "metadata": {},
   "outputs": [],
   "source": [
    "x = data[['Dorosperse Red KKL', 'Dorosperse Blue KKL', 'Dorosperse B/K KKL',\n",
    "       'Dorosperse Dark Grey KKL', 'Dorosperse Brown K-3LR',\n",
    "       'Dianix Yellow AM-2R', 'Dianix Red AM-SLR', 'Dianix Blue AM-2G',\n",
    "       'Dianix Black AM-SLR', 'Dianix Grey AM-SLR', 'Dianix Yellow Brown AM-R',\n",
    "       'Dorosperse Yellow KKL', 'Dorosperse Black KKL','Dorosperse Red KKL_prop', 'Dorosperse Blue KKL_prop', 'Dorosperse B/K KKL_prop',\n",
    "       'Dorosperse Dark Grey KKL_prop', 'Dorosperse Brown K-3LR_prop',\n",
    "       'Dianix Yellow AM-2R_prop', 'Dianix Red AM-SLR_prop', 'Dianix Blue AM-2G_prop',\n",
    "       'Dianix Black AM-SLR_prop', 'Dianix Grey AM-SLR_prop', 'Dianix Yellow Brown AM-R_prop',\n",
    "       'Dorosperse Yellow KKL_prop', 'Dorosperse Black KKL_prop','배합_Sunsolt RM-340S', '배합_빙초산', 'Lab 염색 시작온도', 'Lab 염색 상승속도 #1',\n",
    "       'Lab 염색 상승온도 #1', 'Lab 염색 상승온도 #1 유지시간', 'Lab 염색 상승속도 #2',\n",
    "       'Lab 염색 상승온도 #2', 'Lab 염색 상승온도 #2 유지시간', 'Lab 염색 상승속도 #3',\n",
    "       'Lab 염색 상승온도 #3', 'Lab 염색 상승온도 #3 유지시간', 'Lab 염색 하강속도 #1',\n",
    "       'Lab 염색 하강온도 #1', 'Lab 염색 하강온도 #1 유지시간', 'Lab 염색 하강속도 #2',\n",
    "       'Lab 염색 하강온도 #2', 'Lab 염색 하강온도 #2 유지시간', 'Lab 염색 하강속도 #3',\n",
    "       'Lab 염색 하강온도 #3', 'Lab 염색 하강온도 #3 유지시간', 'Lab 염색 종료속도', 'Lab 염색 종료온도',\n",
    "       'Lab 염색 종료온도 유지시간']]\n",
    "y = data[['잔욕염색 검사_L*']]\n",
    "x_train, x_test, y_train, y_test = train_test_split(x,y, train_size=0.8, test_size=0.2, random_state=42)\n",
    "Lestimator = GradientBoostingRegressor(n_estimators = 500,max_depth=8, min_samples_split=7,random_state=0)\n",
    "Lestimator.fit(x_train,y_train)\n",
    "L_pred = Lestimator.predict(x)\n",
    "\n",
    "print(\"r^2 score: {:.2f}\".format(r2_score(y, L_pred))) # r2스코어\n",
    "print(\"MAE score: {:.2f}\".format(mean_absolute_error(y,L_pred))) # MAE스코어\n",
    "print(\"MSE score: {:.2f}\".format(mean_squared_error(y,L_pred))) # MSE스코어"
   ]
  },
  {
   "cell_type": "markdown",
   "id": "fb8e1485",
   "metadata": {},
   "source": [
    "# a* 학습"
   ]
  },
  {
   "cell_type": "code",
   "execution_count": null,
   "id": "1cc2cdcc",
   "metadata": {},
   "outputs": [],
   "source": [
    "x = data[['Dorosperse Red KKL', 'Dorosperse Blue KKL', 'Dorosperse B/K KKL',\n",
    "       'Dorosperse Dark Grey KKL', 'Dorosperse Brown K-3LR',\n",
    "       'Dianix Yellow AM-2R', 'Dianix Red AM-SLR', 'Dianix Blue AM-2G',\n",
    "       'Dianix Black AM-SLR', 'Dianix Grey AM-SLR', 'Dianix Yellow Brown AM-R',\n",
    "       'Dorosperse Yellow KKL', 'Dorosperse Black KKL','Dorosperse Red KKL_prop', 'Dorosperse Blue KKL_prop', 'Dorosperse B/K KKL_prop',\n",
    "       'Dorosperse Dark Grey KKL_prop', 'Dorosperse Brown K-3LR_prop',\n",
    "       'Dianix Yellow AM-2R_prop', 'Dianix Red AM-SLR_prop', 'Dianix Blue AM-2G_prop',\n",
    "       'Dianix Black AM-SLR_prop', 'Dianix Grey AM-SLR_prop', 'Dianix Yellow Brown AM-R_prop',\n",
    "       'Dorosperse Yellow KKL_prop', 'Dorosperse Black KKL_prop','배합_Sunsolt RM-340S', '배합_빙초산', 'Lab 염색 시작온도', 'Lab 염색 상승속도 #1',\n",
    "       'Lab 염색 상승온도 #1', 'Lab 염색 상승온도 #1 유지시간', 'Lab 염색 상승속도 #2',\n",
    "       'Lab 염색 상승온도 #2', 'Lab 염색 상승온도 #2 유지시간', 'Lab 염색 상승속도 #3',\n",
    "       'Lab 염색 상승온도 #3', 'Lab 염색 상승온도 #3 유지시간', 'Lab 염색 하강속도 #1',\n",
    "       'Lab 염색 하강온도 #1', 'Lab 염색 하강온도 #1 유지시간', 'Lab 염색 하강속도 #2',\n",
    "       'Lab 염색 하강온도 #2', 'Lab 염색 하강온도 #2 유지시간', 'Lab 염색 하강속도 #3',\n",
    "       'Lab 염색 하강온도 #3', 'Lab 염색 하강온도 #3 유지시간', 'Lab 염색 종료속도', 'Lab 염색 종료온도',\n",
    "       'Lab 염색 종료온도 유지시간']]\n",
    "y = data[['잔욕염색 검사_a*']]\n",
    "x_train, x_test, y_train, y_test = train_test_split(x,y, train_size=0.8, test_size=0.2, random_state=42)\n",
    "aestimator = GradientBoostingRegressor(n_estimators = 500,max_depth=8, min_samples_split=7,random_state=0)\n",
    "aestimator.fit(x_train,y_train)\n",
    "a_pred = aestimator.predict(x)\n",
    "\n",
    "print(\"r^2 score: {:.2f}\".format(r2_score(y, a_pred))) # r2스코어\n",
    "print(\"MAE score: {:.2f}\".format(mean_absolute_error(y,a_pred))) # MAE스코어\n",
    "print(\"MSE score: {:.2f}\".format(mean_squared_error(y,a_pred))) # MSE스코어"
   ]
  },
  {
   "cell_type": "markdown",
   "id": "35ca38c4",
   "metadata": {},
   "source": [
    "# b* 학습"
   ]
  },
  {
   "cell_type": "code",
   "execution_count": null,
   "id": "8cf2aa2b",
   "metadata": {},
   "outputs": [],
   "source": [
    "x = data[['Dorosperse Red KKL', 'Dorosperse Blue KKL', 'Dorosperse B/K KKL',\n",
    "       'Dorosperse Dark Grey KKL', 'Dorosperse Brown K-3LR',\n",
    "       'Dianix Yellow AM-2R', 'Dianix Red AM-SLR', 'Dianix Blue AM-2G',\n",
    "       'Dianix Black AM-SLR', 'Dianix Grey AM-SLR', 'Dianix Yellow Brown AM-R',\n",
    "       'Dorosperse Yellow KKL', 'Dorosperse Black KKL','Dorosperse Red KKL_prop', 'Dorosperse Blue KKL_prop', 'Dorosperse B/K KKL_prop',\n",
    "       'Dorosperse Dark Grey KKL_prop', 'Dorosperse Brown K-3LR_prop',\n",
    "       'Dianix Yellow AM-2R_prop', 'Dianix Red AM-SLR_prop', 'Dianix Blue AM-2G_prop',\n",
    "       'Dianix Black AM-SLR_prop', 'Dianix Grey AM-SLR_prop', 'Dianix Yellow Brown AM-R_prop',\n",
    "       'Dorosperse Yellow KKL_prop', 'Dorosperse Black KKL_prop','배합_Sunsolt RM-340S', '배합_빙초산', 'Lab 염색 시작온도', 'Lab 염색 상승속도 #1',\n",
    "       'Lab 염색 상승온도 #1', 'Lab 염색 상승온도 #1 유지시간', 'Lab 염색 상승속도 #2',\n",
    "       'Lab 염색 상승온도 #2', 'Lab 염색 상승온도 #2 유지시간', 'Lab 염색 상승속도 #3',\n",
    "       'Lab 염색 상승온도 #3', 'Lab 염색 상승온도 #3 유지시간', 'Lab 염색 하강속도 #1',\n",
    "       'Lab 염색 하강온도 #1', 'Lab 염색 하강온도 #1 유지시간', 'Lab 염색 하강속도 #2',\n",
    "       'Lab 염색 하강온도 #2', 'Lab 염색 하강온도 #2 유지시간', 'Lab 염색 하강속도 #3',\n",
    "       'Lab 염색 하강온도 #3', 'Lab 염색 하강온도 #3 유지시간', 'Lab 염색 종료속도', 'Lab 염색 종료온도',\n",
    "       'Lab 염색 종료온도 유지시간']]\n",
    "y = data[['잔욕염색 검사_b*']]\n",
    "x_train, x_test, y_train, y_test = train_test_split(x,y, train_size=0.8, test_size=0.2, random_state=42)\n",
    "bestimator = GradientBoostingRegressor(n_estimators = 500,max_depth=8, min_samples_split=7,random_state=0)\n",
    "bestimator.fit(x_train,y_train)\n",
    "b_pred = bestimator.predict(x)\n",
    "\n",
    "print(\"r^2 score: {:.2f}\".format(r2_score(y, b_pred))) # r2스코어\n",
    "print(\"MAE score: {:.2f}\".format(mean_absolute_error(y,b_pred))) # MAE스코어\n",
    "print(\"MSE score: {:.2f}\".format(mean_squared_error(y,b_pred))) # MSE스코어"
   ]
  },
  {
   "cell_type": "markdown",
   "id": "07fd6c5f",
   "metadata": {},
   "source": [
    "# KS 학습"
   ]
  },
  {
   "cell_type": "code",
   "execution_count": 3,
   "id": "0600cde2",
   "metadata": {},
   "outputs": [
    {
     "ename": "NameError",
     "evalue": "name 'data' is not defined",
     "output_type": "error",
     "traceback": [
      "\u001b[1;31m---------------------------------------------------------------------------\u001b[0m",
      "\u001b[1;31mNameError\u001b[0m                                 Traceback (most recent call last)",
      "\u001b[1;32m~\\AppData\\Local\\Temp\\ipykernel_25904\\1184262904.py\u001b[0m in \u001b[0;36m<module>\u001b[1;34m\u001b[0m\n\u001b[1;32m----> 1\u001b[1;33m x = data[['Dorosperse Red KKL', 'Dorosperse Blue KKL', 'Dorosperse B/K KKL',\n\u001b[0m\u001b[0;32m      2\u001b[0m        \u001b[1;34m'Dorosperse Dark Grey KKL'\u001b[0m\u001b[1;33m,\u001b[0m \u001b[1;34m'Dorosperse Brown K-3LR'\u001b[0m\u001b[1;33m,\u001b[0m\u001b[1;33m\u001b[0m\u001b[1;33m\u001b[0m\u001b[0m\n\u001b[0;32m      3\u001b[0m        \u001b[1;34m'Dianix Yellow AM-2R'\u001b[0m\u001b[1;33m,\u001b[0m \u001b[1;34m'Dianix Red AM-SLR'\u001b[0m\u001b[1;33m,\u001b[0m \u001b[1;34m'Dianix Blue AM-2G'\u001b[0m\u001b[1;33m,\u001b[0m\u001b[1;33m\u001b[0m\u001b[1;33m\u001b[0m\u001b[0m\n\u001b[0;32m      4\u001b[0m        \u001b[1;34m'Dianix Black AM-SLR'\u001b[0m\u001b[1;33m,\u001b[0m \u001b[1;34m'Dianix Grey AM-SLR'\u001b[0m\u001b[1;33m,\u001b[0m \u001b[1;34m'Dianix Yellow Brown AM-R'\u001b[0m\u001b[1;33m,\u001b[0m\u001b[1;33m\u001b[0m\u001b[1;33m\u001b[0m\u001b[0m\n\u001b[0;32m      5\u001b[0m        \u001b[1;34m'Dorosperse Yellow KKL'\u001b[0m\u001b[1;33m,\u001b[0m \u001b[1;34m'Dorosperse Black KKL'\u001b[0m\u001b[1;33m,\u001b[0m\u001b[1;34m'Dorosperse Red KKL_prop'\u001b[0m\u001b[1;33m,\u001b[0m \u001b[1;34m'Dorosperse Blue KKL_prop'\u001b[0m\u001b[1;33m,\u001b[0m \u001b[1;34m'Dorosperse B/K KKL_prop'\u001b[0m\u001b[1;33m,\u001b[0m\u001b[1;33m\u001b[0m\u001b[1;33m\u001b[0m\u001b[0m\n",
      "\u001b[1;31mNameError\u001b[0m: name 'data' is not defined"
     ]
    }
   ],
   "source": [
    "x = data[['Dorosperse Red KKL', 'Dorosperse Blue KKL', 'Dorosperse B/K KKL',\n",
    "       'Dorosperse Dark Grey KKL', 'Dorosperse Brown K-3LR',\n",
    "       'Dianix Yellow AM-2R', 'Dianix Red AM-SLR', 'Dianix Blue AM-2G',\n",
    "       'Dianix Black AM-SLR', 'Dianix Grey AM-SLR', 'Dianix Yellow Brown AM-R',\n",
    "       'Dorosperse Yellow KKL', 'Dorosperse Black KKL','Dorosperse Red KKL_prop', 'Dorosperse Blue KKL_prop', 'Dorosperse B/K KKL_prop',\n",
    "       'Dorosperse Dark Grey KKL_prop', 'Dorosperse Brown K-3LR_prop',\n",
    "       'Dianix Yellow AM-2R_prop', 'Dianix Red AM-SLR_prop', 'Dianix Blue AM-2G_prop',\n",
    "       'Dianix Black AM-SLR_prop', 'Dianix Grey AM-SLR_prop', 'Dianix Yellow Brown AM-R_prop',\n",
    "       'Dorosperse Yellow KKL_prop', 'Dorosperse Black KKL_prop','배합_Sunsolt RM-340S', '배합_빙초산', 'Lab 염색 시작온도', 'Lab 염색 상승속도 #1',\n",
    "       'Lab 염색 상승온도 #1', 'Lab 염색 상승온도 #1 유지시간', 'Lab 염색 상승속도 #2',\n",
    "       'Lab 염색 상승온도 #2', 'Lab 염색 상승온도 #2 유지시간', 'Lab 염색 상승속도 #3',\n",
    "       'Lab 염색 상승온도 #3', 'Lab 염색 상승온도 #3 유지시간', 'Lab 염색 하강속도 #1',\n",
    "       'Lab 염색 하강온도 #1', 'Lab 염색 하강온도 #1 유지시간', 'Lab 염색 하강속도 #2',\n",
    "       'Lab 염색 하강온도 #2', 'Lab 염색 하강온도 #2 유지시간', 'Lab 염색 하강속도 #3',\n",
    "       'Lab 염색 하강온도 #3', 'Lab 염색 하강온도 #3 유지시간', 'Lab 염색 종료속도', 'Lab 염색 종료온도',\n",
    "       'Lab 염색 종료온도 유지시간']]\n",
    "y = data[['잔욕염색 검사_K/S']]\n",
    "x_train, x_test, y_train, y_test = train_test_split(x,y, train_size=0.8, test_size=0.2, random_state=42)\n",
    "KSestimator = GradientBoostingRegressor(n_estimators = 500,max_depth=8, min_samples_split=7,random_state=0)\n",
    "KSestimator.fit(x_train,y_train)\n",
    "KS_pred = KSestimator.predict(x)\n",
    "\n",
    "\n",
    "print(\"r^2 score: {:.2f}\".format(r2_score(y, KS_pred))) # r2스코어\n",
    "print(\"MAE score: {:.2f}\".format(mean_absolute_error(y,KS_pred))) # MAE스코어\n",
    "print(\"MSE score: {:.2f}\".format(mean_squared_error(y,KS_pred))) # MSE스코어"
   ]
  },
  {
   "cell_type": "markdown",
   "id": "f77ad7e2",
   "metadata": {},
   "source": [
    "# 색상 L*, A*, B*, KS 예측"
   ]
  },
  {
   "cell_type": "code",
   "execution_count": 4,
   "id": "949f03b4",
   "metadata": {},
   "outputs": [],
   "source": [
    "class State:\n",
    "    def __init__(self):\n",
    "        self.상승속도1 = 1.1\n",
    "        self.상승속도2 = 1.2\n",
    "        self.상승속도3 = 1.29\n",
    "        self.상승온도3 = 135\n",
    "        self.상승온도유지시간3 = 80\n",
    "        \n",
    "state = State()"
   ]
  },
  {
   "cell_type": "code",
   "execution_count": 5,
   "id": "f408bcfa",
   "metadata": {},
   "outputs": [
    {
     "ename": "NameError",
     "evalue": "name 'Lab' is not defined",
     "output_type": "error",
     "traceback": [
      "\u001b[1;31m---------------------------------------------------------------------------\u001b[0m",
      "\u001b[1;31mNameError\u001b[0m                                 Traceback (most recent call last)",
      "\u001b[1;32m~\\AppData\\Local\\Temp\\ipykernel_25904\\3322696565.py\u001b[0m in \u001b[0;36m<module>\u001b[1;34m\u001b[0m\n\u001b[0;32m     51\u001b[0m            'Lab 염색 종료온도 유지시간': [0]}\n\u001b[0;32m     52\u001b[0m \u001b[0mstatex\u001b[0m \u001b[1;33m=\u001b[0m \u001b[0mpd\u001b[0m\u001b[1;33m.\u001b[0m\u001b[0mDataFrame\u001b[0m\u001b[1;33m(\u001b[0m\u001b[0mstatex\u001b[0m\u001b[1;33m)\u001b[0m\u001b[1;33m\u001b[0m\u001b[1;33m\u001b[0m\u001b[0m\n\u001b[1;32m---> 53\u001b[1;33m \u001b[0mstate_Lab\u001b[0m \u001b[1;33m=\u001b[0m \u001b[0mLab\u001b[0m\u001b[1;33m.\u001b[0m\u001b[0mpredict\u001b[0m\u001b[1;33m(\u001b[0m\u001b[0mstatex\u001b[0m\u001b[1;33m)\u001b[0m\u001b[1;33m\u001b[0m\u001b[1;33m\u001b[0m\u001b[0m\n\u001b[0m\u001b[0;32m     54\u001b[0m \u001b[1;31m#state_L = Lestimator.predict(statex)\u001b[0m\u001b[1;33m\u001b[0m\u001b[1;33m\u001b[0m\u001b[0m\n\u001b[0;32m     55\u001b[0m \u001b[1;31m#state_a = aestimator.predict(statex)\u001b[0m\u001b[1;33m\u001b[0m\u001b[1;33m\u001b[0m\u001b[0m\n",
      "\u001b[1;31mNameError\u001b[0m: name 'Lab' is not defined"
     ]
    }
   ],
   "source": [
    " statex = {\n",
    "            'Dorosperse Red KKL': [0], \n",
    "            'Dorosperse Blue KKL': [0],\n",
    "            'Dorosperse B/K KKL': [0], \n",
    "            'Dorosperse Dark Grey KKL': [0],\n",
    "            'Dorosperse Brown K-3LR': [0.1], \n",
    "            'Dianix Yellow AM-2R': [0],\n",
    "            'Dianix Red AM-SLR': [0], \n",
    "            'Dianix Blue AM-2G': [0],\n",
    "            'Dianix Black AM-SLR': [0],\n",
    "            'Dianix Grey AM-SLR': [0], \n",
    "            'Dianix Yellow Brown AM-R': [0],\n",
    "            'Dorosperse Yellow KKL': [0], \n",
    "            'Dorosperse Black KKL': [0],\n",
    "            'Dorosperse Red KKL_prop': [0], \n",
    "            'Dorosperse Blue KKL_prop': [0],\n",
    "            'Dorosperse B/K KKL_prop': [0], \n",
    "            'Dorosperse Dark Grey KKL_prop': [0],\n",
    "            'Dorosperse Brown K-3LR_prop': [1], \n",
    "            'Dianix Yellow AM-2R_prop': [0],\n",
    "            'Dianix Red AM-SLR_prop': [0], \n",
    "            'Dianix Blue AM-2G_prop': [0],\n",
    "            'Dianix Black AM-SLR_prop': [0],\n",
    "            'Dianix Grey AM-SLR_prop': [0],\n",
    "            'Dianix Yellow Brown AM-R_prop': [0], \n",
    "            'Dorosperse Yellow KKL_prop': [0],\n",
    "            'Dorosperse Black KKL_prop': [0],\n",
    "            '배합_Sunsolt RM-340S': [0.3],\n",
    "            '배합_빙초산': [0.2], \n",
    "            'Lab 염색 시작온도': [40], \n",
    "            'Lab 염색 상승속도 #1': [state.상승속도1],\n",
    "            'Lab 염색 상승온도 #1': [64],\n",
    "            'Lab 염색 상승온도 #1 유지시간': [0], \n",
    "            'Lab 염색 상승속도 #2': [state.상승속도2],\n",
    "            'Lab 염색 상승온도 #2': [100],\n",
    "            'Lab 염색 상승온도 #2 유지시간': [0],\n",
    "            'Lab 염색 상승속도 #3': [state.상승속도3],\n",
    "            'Lab 염색 상승온도 #3': [state.상승온도3],\n",
    "            'Lab 염색 상승온도 #3 유지시간': [state.상승온도유지시간3],\n",
    "            'Lab 염색 하강속도 #1': [1.97222],\n",
    "            'Lab 염색 하강온도 #1': [64],\n",
    "            'Lab 염색 하강온도 #1 유지시간': [0],\n",
    "            'Lab 염색 하강속도 #2': [0],\n",
    "            'Lab 염색 하강온도 #2': [64],\n",
    "            'Lab 염색 하강온도 #2 유지시간': [0],\n",
    "            'Lab 염색 하강속도 #3': [0],\n",
    "            'Lab 염색 하강온도 #3': [64],\n",
    "            'Lab 염색 하강온도 #3 유지시간': [0],\n",
    "            'Lab 염색 종료속도': [0],\n",
    "            'Lab 염색 종료온도': [64],\n",
    "            'Lab 염색 종료온도 유지시간': [0]}\n",
    "statex = pd.DataFrame(statex)\n",
    "state_Lab = Lab.predict(statex)\n",
    "#state_L = Lestimator.predict(statex)\n",
    "#state_a = aestimator.predict(statex)\n",
    "#state_b = bestimator.predict(statex)\n",
    "#state_ks = KSestimator.predict(statex)\n",
    "\n",
    "print(state_Lab)\n",
    "#print(state_L)\n",
    "#print(state_a)\n",
    "#print(state_b)\n",
    "#print(state_ks)"
   ]
  },
  {
   "cell_type": "code",
   "execution_count": 6,
   "id": "57bf89f9",
   "metadata": {},
   "outputs": [
    {
     "ename": "NameError",
     "evalue": "name 'Lab' is not defined",
     "output_type": "error",
     "traceback": [
      "\u001b[1;31m---------------------------------------------------------------------------\u001b[0m",
      "\u001b[1;31mNameError\u001b[0m                                 Traceback (most recent call last)",
      "\u001b[1;32m~\\AppData\\Local\\Temp\\ipykernel_25904\\481022448.py\u001b[0m in \u001b[0;36m<module>\u001b[1;34m\u001b[0m\n\u001b[0;32m      3\u001b[0m \u001b[1;31m#사용모델 저장\u001b[0m\u001b[1;33m\u001b[0m\u001b[1;33m\u001b[0m\u001b[0m\n\u001b[0;32m      4\u001b[0m \u001b[1;32mwith\u001b[0m \u001b[0mopen\u001b[0m\u001b[1;33m(\u001b[0m\u001b[0mpath\u001b[0m\u001b[1;33m+\u001b[0m\u001b[1;34m\"LAB예측모델.pkl\"\u001b[0m\u001b[1;33m,\u001b[0m\u001b[1;34m\"wb\"\u001b[0m\u001b[1;33m)\u001b[0m \u001b[1;32mas\u001b[0m \u001b[0mf\u001b[0m\u001b[1;33m:\u001b[0m\u001b[1;33m\u001b[0m\u001b[1;33m\u001b[0m\u001b[0m\n\u001b[1;32m----> 5\u001b[1;33m     \u001b[0mpickle\u001b[0m\u001b[1;33m.\u001b[0m\u001b[0mdump\u001b[0m\u001b[1;33m(\u001b[0m\u001b[0mLab\u001b[0m\u001b[1;33m,\u001b[0m\u001b[0mf\u001b[0m\u001b[1;33m)\u001b[0m\u001b[1;33m\u001b[0m\u001b[1;33m\u001b[0m\u001b[0m\n\u001b[0m",
      "\u001b[1;31mNameError\u001b[0m: name 'Lab' is not defined"
     ]
    }
   ],
   "source": [
    "path = 'C:/Users/leewa/Desktop/'\n",
    "\n",
    "#사용모델 저장\n",
    "with open(path+\"LAB예측모델.pkl\",\"wb\") as f:\n",
    "    pickle.dump(Lab,f)"
   ]
  },
  {
   "cell_type": "code",
   "execution_count": null,
   "id": "bae0c743",
   "metadata": {},
   "outputs": [],
   "source": []
  }
 ],
 "metadata": {
  "kernelspec": {
   "display_name": "Python 3 (ipykernel)",
   "language": "python",
   "name": "python3"
  },
  "language_info": {
   "codemirror_mode": {
    "name": "ipython",
    "version": 3
   },
   "file_extension": ".py",
   "mimetype": "text/x-python",
   "name": "python",
   "nbconvert_exporter": "python",
   "pygments_lexer": "ipython3",
   "version": "3.11.3"
  }
 },
 "nbformat": 4,
 "nbformat_minor": 5
}
